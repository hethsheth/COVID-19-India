{
  "nbformat": 4,
  "nbformat_minor": 0,
  "metadata": {
    "colab": {
      "name": "Seq2Seq.ipynb",
      "provenance": [],
      "collapsed_sections": [
        "nWU-0bU3Uqr3",
        "tgYntcStScdT"
      ]
    },
    "kernelspec": {
      "name": "python3",
      "display_name": "Python 3"
    },
    "language_info": {
      "name": "python"
    },
    "widgets": {
      "application/vnd.jupyter.widget-state+json": {
        "c2e837ff593942d187c91e9aeffb6911": {
          "model_module": "@jupyter-widgets/controls",
          "model_name": "VBoxModel",
          "state": {
            "_view_name": "VBoxView",
            "_dom_classes": [],
            "_model_name": "VBoxModel",
            "_view_module": "@jupyter-widgets/controls",
            "_model_module_version": "1.5.0",
            "_view_count": null,
            "_view_module_version": "1.5.0",
            "box_style": "",
            "layout": "IPY_MODEL_999af9a23a4843228cc786d6e0de86a1",
            "_model_module": "@jupyter-widgets/controls",
            "children": [
              "IPY_MODEL_69016e71559e448fa1c1b5fe78a96376",
              "IPY_MODEL_d81bb24affcf430ea4c0d8edb43a1b92"
            ]
          }
        },
        "999af9a23a4843228cc786d6e0de86a1": {
          "model_module": "@jupyter-widgets/base",
          "model_name": "LayoutModel",
          "state": {
            "_view_name": "LayoutView",
            "grid_template_rows": null,
            "right": null,
            "justify_content": null,
            "_view_module": "@jupyter-widgets/base",
            "overflow": null,
            "_model_module_version": "1.2.0",
            "_view_count": null,
            "flex_flow": null,
            "width": null,
            "min_width": null,
            "border": null,
            "align_items": null,
            "bottom": null,
            "_model_module": "@jupyter-widgets/base",
            "top": null,
            "grid_column": null,
            "overflow_y": null,
            "overflow_x": null,
            "grid_auto_flow": null,
            "grid_area": null,
            "grid_template_columns": null,
            "flex": null,
            "_model_name": "LayoutModel",
            "justify_items": null,
            "grid_row": null,
            "max_height": null,
            "align_content": null,
            "visibility": null,
            "align_self": null,
            "height": null,
            "min_height": null,
            "padding": null,
            "grid_auto_rows": null,
            "grid_gap": null,
            "max_width": null,
            "order": null,
            "_view_module_version": "1.2.0",
            "grid_template_areas": null,
            "object_position": null,
            "object_fit": null,
            "grid_auto_columns": null,
            "margin": null,
            "display": null,
            "left": null
          }
        },
        "69016e71559e448fa1c1b5fe78a96376": {
          "model_module": "@jupyter-widgets/controls",
          "model_name": "LabelModel",
          "state": {
            "_view_name": "LabelView",
            "style": "IPY_MODEL_7fee599a3f6d4d1fb88af07c782d65fe",
            "_dom_classes": [],
            "description": "",
            "_model_name": "LabelModel",
            "placeholder": "​",
            "_view_module": "@jupyter-widgets/controls",
            "_model_module_version": "1.5.0",
            "value": " 21.14MB of 21.14MB uploaded (0.00MB deduped)\r",
            "_view_count": null,
            "_view_module_version": "1.5.0",
            "description_tooltip": null,
            "_model_module": "@jupyter-widgets/controls",
            "layout": "IPY_MODEL_7ee9ca99ec4146b581abd64a7a5a0465"
          }
        },
        "d81bb24affcf430ea4c0d8edb43a1b92": {
          "model_module": "@jupyter-widgets/controls",
          "model_name": "FloatProgressModel",
          "state": {
            "_view_name": "ProgressView",
            "style": "IPY_MODEL_bd88474b691546ffb728a7d98b11cf16",
            "_dom_classes": [],
            "description": "",
            "_model_name": "FloatProgressModel",
            "bar_style": "",
            "max": 1,
            "_view_module": "@jupyter-widgets/controls",
            "_model_module_version": "1.5.0",
            "value": 1,
            "_view_count": null,
            "_view_module_version": "1.5.0",
            "orientation": "horizontal",
            "min": 0,
            "description_tooltip": null,
            "_model_module": "@jupyter-widgets/controls",
            "layout": "IPY_MODEL_efd8f1e4ad5e4582bc98bf149c2a1964"
          }
        },
        "7fee599a3f6d4d1fb88af07c782d65fe": {
          "model_module": "@jupyter-widgets/controls",
          "model_name": "DescriptionStyleModel",
          "state": {
            "_view_name": "StyleView",
            "_model_name": "DescriptionStyleModel",
            "description_width": "",
            "_view_module": "@jupyter-widgets/base",
            "_model_module_version": "1.5.0",
            "_view_count": null,
            "_view_module_version": "1.2.0",
            "_model_module": "@jupyter-widgets/controls"
          }
        },
        "7ee9ca99ec4146b581abd64a7a5a0465": {
          "model_module": "@jupyter-widgets/base",
          "model_name": "LayoutModel",
          "state": {
            "_view_name": "LayoutView",
            "grid_template_rows": null,
            "right": null,
            "justify_content": null,
            "_view_module": "@jupyter-widgets/base",
            "overflow": null,
            "_model_module_version": "1.2.0",
            "_view_count": null,
            "flex_flow": null,
            "width": null,
            "min_width": null,
            "border": null,
            "align_items": null,
            "bottom": null,
            "_model_module": "@jupyter-widgets/base",
            "top": null,
            "grid_column": null,
            "overflow_y": null,
            "overflow_x": null,
            "grid_auto_flow": null,
            "grid_area": null,
            "grid_template_columns": null,
            "flex": null,
            "_model_name": "LayoutModel",
            "justify_items": null,
            "grid_row": null,
            "max_height": null,
            "align_content": null,
            "visibility": null,
            "align_self": null,
            "height": null,
            "min_height": null,
            "padding": null,
            "grid_auto_rows": null,
            "grid_gap": null,
            "max_width": null,
            "order": null,
            "_view_module_version": "1.2.0",
            "grid_template_areas": null,
            "object_position": null,
            "object_fit": null,
            "grid_auto_columns": null,
            "margin": null,
            "display": null,
            "left": null
          }
        },
        "bd88474b691546ffb728a7d98b11cf16": {
          "model_module": "@jupyter-widgets/controls",
          "model_name": "ProgressStyleModel",
          "state": {
            "_view_name": "StyleView",
            "_model_name": "ProgressStyleModel",
            "description_width": "",
            "_view_module": "@jupyter-widgets/base",
            "_model_module_version": "1.5.0",
            "_view_count": null,
            "_view_module_version": "1.2.0",
            "bar_color": null,
            "_model_module": "@jupyter-widgets/controls"
          }
        },
        "efd8f1e4ad5e4582bc98bf149c2a1964": {
          "model_module": "@jupyter-widgets/base",
          "model_name": "LayoutModel",
          "state": {
            "_view_name": "LayoutView",
            "grid_template_rows": null,
            "right": null,
            "justify_content": null,
            "_view_module": "@jupyter-widgets/base",
            "overflow": null,
            "_model_module_version": "1.2.0",
            "_view_count": null,
            "flex_flow": null,
            "width": null,
            "min_width": null,
            "border": null,
            "align_items": null,
            "bottom": null,
            "_model_module": "@jupyter-widgets/base",
            "top": null,
            "grid_column": null,
            "overflow_y": null,
            "overflow_x": null,
            "grid_auto_flow": null,
            "grid_area": null,
            "grid_template_columns": null,
            "flex": null,
            "_model_name": "LayoutModel",
            "justify_items": null,
            "grid_row": null,
            "max_height": null,
            "align_content": null,
            "visibility": null,
            "align_self": null,
            "height": null,
            "min_height": null,
            "padding": null,
            "grid_auto_rows": null,
            "grid_gap": null,
            "max_width": null,
            "order": null,
            "_view_module_version": "1.2.0",
            "grid_template_areas": null,
            "object_position": null,
            "object_fit": null,
            "grid_auto_columns": null,
            "margin": null,
            "display": null,
            "left": null
          }
        },
        "a51b4feb52514a04a4e54b90c7dd4007": {
          "model_module": "@jupyter-widgets/controls",
          "model_name": "VBoxModel",
          "state": {
            "_view_name": "VBoxView",
            "_dom_classes": [],
            "_model_name": "VBoxModel",
            "_view_module": "@jupyter-widgets/controls",
            "_model_module_version": "1.5.0",
            "_view_count": null,
            "_view_module_version": "1.5.0",
            "box_style": "",
            "layout": "IPY_MODEL_258ad7181b9b497f9be0109e8e3b4399",
            "_model_module": "@jupyter-widgets/controls",
            "children": [
              "IPY_MODEL_2e1be01aff3a482fb12379642bbb4b5e",
              "IPY_MODEL_3ebd570b58c546988bf71607c1d10009"
            ]
          }
        },
        "258ad7181b9b497f9be0109e8e3b4399": {
          "model_module": "@jupyter-widgets/base",
          "model_name": "LayoutModel",
          "state": {
            "_view_name": "LayoutView",
            "grid_template_rows": null,
            "right": null,
            "justify_content": null,
            "_view_module": "@jupyter-widgets/base",
            "overflow": null,
            "_model_module_version": "1.2.0",
            "_view_count": null,
            "flex_flow": null,
            "width": null,
            "min_width": null,
            "border": null,
            "align_items": null,
            "bottom": null,
            "_model_module": "@jupyter-widgets/base",
            "top": null,
            "grid_column": null,
            "overflow_y": null,
            "overflow_x": null,
            "grid_auto_flow": null,
            "grid_area": null,
            "grid_template_columns": null,
            "flex": null,
            "_model_name": "LayoutModel",
            "justify_items": null,
            "grid_row": null,
            "max_height": null,
            "align_content": null,
            "visibility": null,
            "align_self": null,
            "height": null,
            "min_height": null,
            "padding": null,
            "grid_auto_rows": null,
            "grid_gap": null,
            "max_width": null,
            "order": null,
            "_view_module_version": "1.2.0",
            "grid_template_areas": null,
            "object_position": null,
            "object_fit": null,
            "grid_auto_columns": null,
            "margin": null,
            "display": null,
            "left": null
          }
        },
        "2e1be01aff3a482fb12379642bbb4b5e": {
          "model_module": "@jupyter-widgets/controls",
          "model_name": "LabelModel",
          "state": {
            "_view_name": "LabelView",
            "style": "IPY_MODEL_4d628f0f16ba4f9c82a71992f55130fe",
            "_dom_classes": [],
            "description": "",
            "_model_name": "LabelModel",
            "placeholder": "​",
            "_view_module": "@jupyter-widgets/controls",
            "_model_module_version": "1.5.0",
            "value": " 25.81MB of 25.81MB uploaded (0.00MB deduped)\r",
            "_view_count": null,
            "_view_module_version": "1.5.0",
            "description_tooltip": null,
            "_model_module": "@jupyter-widgets/controls",
            "layout": "IPY_MODEL_7d7dfdb4836248f9b4a389f01ed4a19f"
          }
        },
        "3ebd570b58c546988bf71607c1d10009": {
          "model_module": "@jupyter-widgets/controls",
          "model_name": "FloatProgressModel",
          "state": {
            "_view_name": "ProgressView",
            "style": "IPY_MODEL_d368c317a60b4213a7e833c5da7f8ef2",
            "_dom_classes": [],
            "description": "",
            "_model_name": "FloatProgressModel",
            "bar_style": "",
            "max": 1,
            "_view_module": "@jupyter-widgets/controls",
            "_model_module_version": "1.5.0",
            "value": 1,
            "_view_count": null,
            "_view_module_version": "1.5.0",
            "orientation": "horizontal",
            "min": 0,
            "description_tooltip": null,
            "_model_module": "@jupyter-widgets/controls",
            "layout": "IPY_MODEL_49dcff07e95b4317933b8c3d01d7348c"
          }
        },
        "4d628f0f16ba4f9c82a71992f55130fe": {
          "model_module": "@jupyter-widgets/controls",
          "model_name": "DescriptionStyleModel",
          "state": {
            "_view_name": "StyleView",
            "_model_name": "DescriptionStyleModel",
            "description_width": "",
            "_view_module": "@jupyter-widgets/base",
            "_model_module_version": "1.5.0",
            "_view_count": null,
            "_view_module_version": "1.2.0",
            "_model_module": "@jupyter-widgets/controls"
          }
        },
        "7d7dfdb4836248f9b4a389f01ed4a19f": {
          "model_module": "@jupyter-widgets/base",
          "model_name": "LayoutModel",
          "state": {
            "_view_name": "LayoutView",
            "grid_template_rows": null,
            "right": null,
            "justify_content": null,
            "_view_module": "@jupyter-widgets/base",
            "overflow": null,
            "_model_module_version": "1.2.0",
            "_view_count": null,
            "flex_flow": null,
            "width": null,
            "min_width": null,
            "border": null,
            "align_items": null,
            "bottom": null,
            "_model_module": "@jupyter-widgets/base",
            "top": null,
            "grid_column": null,
            "overflow_y": null,
            "overflow_x": null,
            "grid_auto_flow": null,
            "grid_area": null,
            "grid_template_columns": null,
            "flex": null,
            "_model_name": "LayoutModel",
            "justify_items": null,
            "grid_row": null,
            "max_height": null,
            "align_content": null,
            "visibility": null,
            "align_self": null,
            "height": null,
            "min_height": null,
            "padding": null,
            "grid_auto_rows": null,
            "grid_gap": null,
            "max_width": null,
            "order": null,
            "_view_module_version": "1.2.0",
            "grid_template_areas": null,
            "object_position": null,
            "object_fit": null,
            "grid_auto_columns": null,
            "margin": null,
            "display": null,
            "left": null
          }
        },
        "d368c317a60b4213a7e833c5da7f8ef2": {
          "model_module": "@jupyter-widgets/controls",
          "model_name": "ProgressStyleModel",
          "state": {
            "_view_name": "StyleView",
            "_model_name": "ProgressStyleModel",
            "description_width": "",
            "_view_module": "@jupyter-widgets/base",
            "_model_module_version": "1.5.0",
            "_view_count": null,
            "_view_module_version": "1.2.0",
            "bar_color": null,
            "_model_module": "@jupyter-widgets/controls"
          }
        },
        "49dcff07e95b4317933b8c3d01d7348c": {
          "model_module": "@jupyter-widgets/base",
          "model_name": "LayoutModel",
          "state": {
            "_view_name": "LayoutView",
            "grid_template_rows": null,
            "right": null,
            "justify_content": null,
            "_view_module": "@jupyter-widgets/base",
            "overflow": null,
            "_model_module_version": "1.2.0",
            "_view_count": null,
            "flex_flow": null,
            "width": null,
            "min_width": null,
            "border": null,
            "align_items": null,
            "bottom": null,
            "_model_module": "@jupyter-widgets/base",
            "top": null,
            "grid_column": null,
            "overflow_y": null,
            "overflow_x": null,
            "grid_auto_flow": null,
            "grid_area": null,
            "grid_template_columns": null,
            "flex": null,
            "_model_name": "LayoutModel",
            "justify_items": null,
            "grid_row": null,
            "max_height": null,
            "align_content": null,
            "visibility": null,
            "align_self": null,
            "height": null,
            "min_height": null,
            "padding": null,
            "grid_auto_rows": null,
            "grid_gap": null,
            "max_width": null,
            "order": null,
            "_view_module_version": "1.2.0",
            "grid_template_areas": null,
            "object_position": null,
            "object_fit": null,
            "grid_auto_columns": null,
            "margin": null,
            "display": null,
            "left": null
          }
        },
        "4edc48133ce845a0bb46a05b5a8a3b68": {
          "model_module": "@jupyter-widgets/controls",
          "model_name": "VBoxModel",
          "state": {
            "_view_name": "VBoxView",
            "_dom_classes": [],
            "_model_name": "VBoxModel",
            "_view_module": "@jupyter-widgets/controls",
            "_model_module_version": "1.5.0",
            "_view_count": null,
            "_view_module_version": "1.5.0",
            "box_style": "",
            "layout": "IPY_MODEL_7d950645ee1b4bbb95302dad10ae8557",
            "_model_module": "@jupyter-widgets/controls",
            "children": [
              "IPY_MODEL_5bd6625e951d4d2f813274b8fb3d5007",
              "IPY_MODEL_117ea53385bf4514bd5e32a6d0e9e960"
            ]
          }
        },
        "7d950645ee1b4bbb95302dad10ae8557": {
          "model_module": "@jupyter-widgets/base",
          "model_name": "LayoutModel",
          "state": {
            "_view_name": "LayoutView",
            "grid_template_rows": null,
            "right": null,
            "justify_content": null,
            "_view_module": "@jupyter-widgets/base",
            "overflow": null,
            "_model_module_version": "1.2.0",
            "_view_count": null,
            "flex_flow": null,
            "width": null,
            "min_width": null,
            "border": null,
            "align_items": null,
            "bottom": null,
            "_model_module": "@jupyter-widgets/base",
            "top": null,
            "grid_column": null,
            "overflow_y": null,
            "overflow_x": null,
            "grid_auto_flow": null,
            "grid_area": null,
            "grid_template_columns": null,
            "flex": null,
            "_model_name": "LayoutModel",
            "justify_items": null,
            "grid_row": null,
            "max_height": null,
            "align_content": null,
            "visibility": null,
            "align_self": null,
            "height": null,
            "min_height": null,
            "padding": null,
            "grid_auto_rows": null,
            "grid_gap": null,
            "max_width": null,
            "order": null,
            "_view_module_version": "1.2.0",
            "grid_template_areas": null,
            "object_position": null,
            "object_fit": null,
            "grid_auto_columns": null,
            "margin": null,
            "display": null,
            "left": null
          }
        },
        "5bd6625e951d4d2f813274b8fb3d5007": {
          "model_module": "@jupyter-widgets/controls",
          "model_name": "LabelModel",
          "state": {
            "_view_name": "LabelView",
            "style": "IPY_MODEL_6c444843087840428b7cefca4a8fd623",
            "_dom_classes": [],
            "description": "",
            "_model_name": "LabelModel",
            "placeholder": "​",
            "_view_module": "@jupyter-widgets/controls",
            "_model_module_version": "1.5.0",
            "value": " 21.18MB of 21.18MB uploaded (0.00MB deduped)\r",
            "_view_count": null,
            "_view_module_version": "1.5.0",
            "description_tooltip": null,
            "_model_module": "@jupyter-widgets/controls",
            "layout": "IPY_MODEL_c25c236579ab467dba32f3457a7e6022"
          }
        },
        "117ea53385bf4514bd5e32a6d0e9e960": {
          "model_module": "@jupyter-widgets/controls",
          "model_name": "FloatProgressModel",
          "state": {
            "_view_name": "ProgressView",
            "style": "IPY_MODEL_5ebf3e3a80e84d7fa636d57c38380077",
            "_dom_classes": [],
            "description": "",
            "_model_name": "FloatProgressModel",
            "bar_style": "",
            "max": 1,
            "_view_module": "@jupyter-widgets/controls",
            "_model_module_version": "1.5.0",
            "value": 1,
            "_view_count": null,
            "_view_module_version": "1.5.0",
            "orientation": "horizontal",
            "min": 0,
            "description_tooltip": null,
            "_model_module": "@jupyter-widgets/controls",
            "layout": "IPY_MODEL_06538260fc10428f9a7864919b3176e5"
          }
        },
        "6c444843087840428b7cefca4a8fd623": {
          "model_module": "@jupyter-widgets/controls",
          "model_name": "DescriptionStyleModel",
          "state": {
            "_view_name": "StyleView",
            "_model_name": "DescriptionStyleModel",
            "description_width": "",
            "_view_module": "@jupyter-widgets/base",
            "_model_module_version": "1.5.0",
            "_view_count": null,
            "_view_module_version": "1.2.0",
            "_model_module": "@jupyter-widgets/controls"
          }
        },
        "c25c236579ab467dba32f3457a7e6022": {
          "model_module": "@jupyter-widgets/base",
          "model_name": "LayoutModel",
          "state": {
            "_view_name": "LayoutView",
            "grid_template_rows": null,
            "right": null,
            "justify_content": null,
            "_view_module": "@jupyter-widgets/base",
            "overflow": null,
            "_model_module_version": "1.2.0",
            "_view_count": null,
            "flex_flow": null,
            "width": null,
            "min_width": null,
            "border": null,
            "align_items": null,
            "bottom": null,
            "_model_module": "@jupyter-widgets/base",
            "top": null,
            "grid_column": null,
            "overflow_y": null,
            "overflow_x": null,
            "grid_auto_flow": null,
            "grid_area": null,
            "grid_template_columns": null,
            "flex": null,
            "_model_name": "LayoutModel",
            "justify_items": null,
            "grid_row": null,
            "max_height": null,
            "align_content": null,
            "visibility": null,
            "align_self": null,
            "height": null,
            "min_height": null,
            "padding": null,
            "grid_auto_rows": null,
            "grid_gap": null,
            "max_width": null,
            "order": null,
            "_view_module_version": "1.2.0",
            "grid_template_areas": null,
            "object_position": null,
            "object_fit": null,
            "grid_auto_columns": null,
            "margin": null,
            "display": null,
            "left": null
          }
        },
        "5ebf3e3a80e84d7fa636d57c38380077": {
          "model_module": "@jupyter-widgets/controls",
          "model_name": "ProgressStyleModel",
          "state": {
            "_view_name": "StyleView",
            "_model_name": "ProgressStyleModel",
            "description_width": "",
            "_view_module": "@jupyter-widgets/base",
            "_model_module_version": "1.5.0",
            "_view_count": null,
            "_view_module_version": "1.2.0",
            "bar_color": null,
            "_model_module": "@jupyter-widgets/controls"
          }
        },
        "06538260fc10428f9a7864919b3176e5": {
          "model_module": "@jupyter-widgets/base",
          "model_name": "LayoutModel",
          "state": {
            "_view_name": "LayoutView",
            "grid_template_rows": null,
            "right": null,
            "justify_content": null,
            "_view_module": "@jupyter-widgets/base",
            "overflow": null,
            "_model_module_version": "1.2.0",
            "_view_count": null,
            "flex_flow": null,
            "width": null,
            "min_width": null,
            "border": null,
            "align_items": null,
            "bottom": null,
            "_model_module": "@jupyter-widgets/base",
            "top": null,
            "grid_column": null,
            "overflow_y": null,
            "overflow_x": null,
            "grid_auto_flow": null,
            "grid_area": null,
            "grid_template_columns": null,
            "flex": null,
            "_model_name": "LayoutModel",
            "justify_items": null,
            "grid_row": null,
            "max_height": null,
            "align_content": null,
            "visibility": null,
            "align_self": null,
            "height": null,
            "min_height": null,
            "padding": null,
            "grid_auto_rows": null,
            "grid_gap": null,
            "max_width": null,
            "order": null,
            "_view_module_version": "1.2.0",
            "grid_template_areas": null,
            "object_position": null,
            "object_fit": null,
            "grid_auto_columns": null,
            "margin": null,
            "display": null,
            "left": null
          }
        }
      }
    }
  },
  "cells": [
    {
      "cell_type": "code",
      "metadata": {
        "id": "ULDAj6V1SHPL"
      },
      "source": [
        "# importing necessary libraries\n",
        "import numpy as np\n",
        "import pandas as pd\n",
        "import matplotlib.pyplot as plt\n",
        "import tensorflow as tf\n",
        "from tensorflow import keras\n",
        "from tensorflow.keras.models import Sequential\n",
        "from tensorflow.keras.layers import SimpleRNN, Dense\n",
        "from sklearn.preprocessing import MinMaxScaler\n",
        "from keras.models import Model\n",
        "from keras.layers import Input, LSTM, Dense\n",
        "from keras.optimizers import Adam\n",
        "import warnings\n",
        "warnings.filterwarnings(\"ignore\")\n",
        "\n",
        "random_state=42\n",
        "\n",
        "tf.random.set_seed(random_state)"
      ],
      "execution_count": null,
      "outputs": []
    },
    {
      "cell_type": "code",
      "metadata": {
        "id": "0g6JblZ70d2A",
        "colab": {
          "base_uri": "https://localhost:8080/"
        },
        "outputId": "7ba2e5dc-eec9-433b-f10d-57a64befe4be"
      },
      "source": [
        "# wandb integration\n",
        "!pip install wandb\n",
        "import wandb\n",
        "from wandb.keras import WandbCallback"
      ],
      "execution_count": null,
      "outputs": [
        {
          "output_type": "stream",
          "text": [
            "Requirement already satisfied: wandb in /usr/local/lib/python3.7/dist-packages (0.10.28)\n",
            "Requirement already satisfied: promise<3,>=2.0 in /usr/local/lib/python3.7/dist-packages (from wandb) (2.3)\n",
            "Requirement already satisfied: Click>=7.0 in /usr/local/lib/python3.7/dist-packages (from wandb) (7.1.2)\n",
            "Requirement already satisfied: docker-pycreds>=0.4.0 in /usr/local/lib/python3.7/dist-packages (from wandb) (0.4.0)\n",
            "Requirement already satisfied: python-dateutil>=2.6.1 in /usr/local/lib/python3.7/dist-packages (from wandb) (2.8.1)\n",
            "Requirement already satisfied: protobuf>=3.12.0 in /usr/local/lib/python3.7/dist-packages (from wandb) (3.12.4)\n",
            "Requirement already satisfied: pathtools in /usr/local/lib/python3.7/dist-packages (from wandb) (0.1.2)\n",
            "Requirement already satisfied: GitPython>=1.0.0 in /usr/local/lib/python3.7/dist-packages (from wandb) (3.1.14)\n",
            "Requirement already satisfied: psutil>=5.0.0 in /usr/local/lib/python3.7/dist-packages (from wandb) (5.4.8)\n",
            "Requirement already satisfied: shortuuid>=0.5.0 in /usr/local/lib/python3.7/dist-packages (from wandb) (1.0.1)\n",
            "Requirement already satisfied: requests<3,>=2.0.0 in /usr/local/lib/python3.7/dist-packages (from wandb) (2.23.0)\n",
            "Requirement already satisfied: subprocess32>=3.5.3 in /usr/local/lib/python3.7/dist-packages (from wandb) (3.5.4)\n",
            "Requirement already satisfied: PyYAML in /usr/local/lib/python3.7/dist-packages (from wandb) (3.13)\n",
            "Requirement already satisfied: six>=1.13.0 in /usr/local/lib/python3.7/dist-packages (from wandb) (1.15.0)\n",
            "Requirement already satisfied: sentry-sdk>=0.4.0 in /usr/local/lib/python3.7/dist-packages (from wandb) (1.0.0)\n",
            "Requirement already satisfied: configparser>=3.8.1 in /usr/local/lib/python3.7/dist-packages (from wandb) (5.0.2)\n",
            "Requirement already satisfied: setuptools in /usr/local/lib/python3.7/dist-packages (from protobuf>=3.12.0->wandb) (56.0.0)\n",
            "Requirement already satisfied: gitdb<5,>=4.0.1 in /usr/local/lib/python3.7/dist-packages (from GitPython>=1.0.0->wandb) (4.0.7)\n",
            "Requirement already satisfied: certifi>=2017.4.17 in /usr/local/lib/python3.7/dist-packages (from requests<3,>=2.0.0->wandb) (2020.12.5)\n",
            "Requirement already satisfied: urllib3!=1.25.0,!=1.25.1,<1.26,>=1.21.1 in /usr/local/lib/python3.7/dist-packages (from requests<3,>=2.0.0->wandb) (1.24.3)\n",
            "Requirement already satisfied: idna<3,>=2.5 in /usr/local/lib/python3.7/dist-packages (from requests<3,>=2.0.0->wandb) (2.10)\n",
            "Requirement already satisfied: chardet<4,>=3.0.2 in /usr/local/lib/python3.7/dist-packages (from requests<3,>=2.0.0->wandb) (3.0.4)\n",
            "Requirement already satisfied: smmap<5,>=3.0.1 in /usr/local/lib/python3.7/dist-packages (from gitdb<5,>=4.0.1->GitPython>=1.0.0->wandb) (4.0.0)\n"
          ],
          "name": "stdout"
        }
      ]
    },
    {
      "cell_type": "markdown",
      "metadata": {
        "id": "dSg7RF6ozqlt"
      },
      "source": [
        "In our models, we use the number of cases in the last n days as input features to predict the output of next day. n is a hyperparameter whose value is set to 7,10 and 14 and the losses for each are compared."
      ]
    },
    {
      "cell_type": "code",
      "metadata": {
        "id": "QpF2rhYYfd_y"
      },
      "source": [
        "df_save = pd.DataFrame(columns=['7', '10', '14'])"
      ],
      "execution_count": null,
      "outputs": []
    },
    {
      "cell_type": "markdown",
      "metadata": {
        "id": "VhxWbwpZUzU3"
      },
      "source": [
        "## Data formatting - Using past 7 days"
      ]
    },
    {
      "cell_type": "code",
      "metadata": {
        "id": "73qd6Y6NUzU5"
      },
      "source": [
        "n_past = 7\n",
        "n_future = 1"
      ],
      "execution_count": null,
      "outputs": []
    },
    {
      "cell_type": "code",
      "metadata": {
        "id": "7NGgHsG6UzU6"
      },
      "source": [
        "df = pd.read_csv('/content/drive/MyDrive/ML/cleaned.csv', index_col='Day')"
      ],
      "execution_count": null,
      "outputs": []
    },
    {
      "cell_type": "code",
      "metadata": {
        "id": "kOArhN9dUzU7"
      },
      "source": [
        "def select_columns(df):\n",
        "  cols_to_keep = [       \n",
        "      'Daily Confirmed'      \n",
        "  ]\n",
        "  df_subset = df[cols_to_keep]\n",
        "#   df_subset[i] = df_subset[i].rolling(window=7).mean().iloc[7-1:]\n",
        "  return len(cols_to_keep), df_subset"
      ],
      "execution_count": null,
      "outputs": []
    },
    {
      "cell_type": "code",
      "metadata": {
        "id": "NUz_WdXcUzU8"
      },
      "source": [
        "n_features, df_2 = select_columns(df)\n",
        "df_3 = df_2.copy(deep=True)"
      ],
      "execution_count": null,
      "outputs": []
    },
    {
      "cell_type": "code",
      "metadata": {
        "id": "QCrwBVtwUzU9"
      },
      "source": [
        "train_df, test_df = df_2[:400], df_3[400-n_past+1:]"
      ],
      "execution_count": null,
      "outputs": []
    },
    {
      "cell_type": "code",
      "metadata": {
        "id": "qo3-j_qWUzU-"
      },
      "source": [
        "# scaling training data to (0,1)\n",
        "train = train_df\n",
        "scalers={}\n",
        "for i in train_df.columns:\n",
        "    scaler = MinMaxScaler(feature_range=(0,1))\n",
        "    s_s = scaler.fit_transform(train[i].values.reshape(-1,1))\n",
        "    s_s=np.reshape(s_s,len(s_s))\n",
        "    scalers['scaler_'+ i] = scaler\n",
        "    train[i]=s_s\n",
        "\n",
        "# transfoming testing data on the training data\n",
        "test = test_df\n",
        "for i in train_df.columns:\n",
        "    scaler = scalers['scaler_'+i]\n",
        "    s_s = scaler.transform(test[i].values.reshape(-1,1))\n",
        "    s_s=np.reshape(s_s,len(s_s))\n",
        "    scalers['scaler_'+i] = scaler\n",
        "    test[i]=s_s"
      ],
      "execution_count": null,
      "outputs": []
    },
    {
      "cell_type": "code",
      "metadata": {
        "id": "zFZELOEaUzU_",
        "colab": {
          "base_uri": "https://localhost:8080/",
          "height": 742
        },
        "outputId": "cd6732d1-4c50-4637-f2a7-5ec98d4c14d3"
      },
      "source": [
        "fig=plt.figure(figsize=(15, 10), dpi= 80, facecolor='w', edgecolor='k')\n",
        "plt.plot(train['Daily Confirmed'].values,color = 'black', label = 'daily cases')\n",
        "\n",
        "plt.xlabel(\"days\", fontsize=30)\n",
        "plt.ylabel(\"Scaled number of New Cases\", fontsize=30)\n",
        "plt.title(\"COVID-19 India\", fontsize=30)\n",
        "plt.legend()"
      ],
      "execution_count": null,
      "outputs": [
        {
          "output_type": "execute_result",
          "data": {
            "text/plain": [
              "<matplotlib.legend.Legend at 0x7f799aa930d0>"
            ]
          },
          "metadata": {
            "tags": []
          },
          "execution_count": 85
        },
        {
          "output_type": "display_data",
          "data": {
            "image/png": "[encoded data removed]",
            "text/plain": [
              "<Figure size 1200x800 with 1 Axes>"
            ]
          },
          "metadata": {
            "tags": []
          }
        }
      ]
    },
    {
      "cell_type": "code",
      "metadata": {
        "id": "OXCTFwkQUzVC"
      },
      "source": [
        "def split_series(series, n_past, n_future):\n",
        "  #\n",
        "  # n_past ==> no of past observations\n",
        "  #\n",
        "  # n_future ==> no of future observations \n",
        "  #\n",
        "    X, y = list(), list()\n",
        "    for window_start in range(len(series)):\n",
        "        past_end = window_start + n_past\n",
        "        future_end = past_end + n_future\n",
        "        if future_end > len(series):\n",
        "            break\n",
        "        # slicing the past and future parts of the window\n",
        "        past, future = series[window_start:past_end, :], series[past_end:future_end, :]\n",
        "        X.append(past)\n",
        "        y.append(future)\n",
        "    return np.array(X), np.array(y)"
      ],
      "execution_count": null,
      "outputs": []
    },
    {
      "cell_type": "code",
      "metadata": {
        "id": "7j_LZRnbUzVD"
      },
      "source": [
        "X_train, y_train = split_series(train.values,n_past, n_future)\n",
        "X_train = X_train.reshape((X_train.shape[0], X_train.shape[1],n_features))\n",
        "y_train = y_train.reshape((y_train.shape[0], y_train.shape[1], n_features))\n",
        "\n",
        "X_test, y_test = split_series(test.values,n_past, n_future)\n",
        "X_test = X_test.reshape((X_test.shape[0], X_test.shape[1],n_features))\n",
        "y_test = y_test.reshape((y_test.shape[0], y_test.shape[1], n_features))"
      ],
      "execution_count": null,
      "outputs": []
    },
    {
      "cell_type": "code",
      "metadata": {
        "colab": {
          "base_uri": "https://localhost:8080/"
        },
        "id": "ffXe0_3GhvyC",
        "outputId": "349d1ad5-aba0-41db-f463-4eef33973779"
      },
      "source": [
        "X_test.shape"
      ],
      "execution_count": null,
      "outputs": [
        {
          "output_type": "execute_result",
          "data": {
            "text/plain": [
              "(55, 7, 1)"
            ]
          },
          "metadata": {
            "tags": []
          },
          "execution_count": 93
        }
      ]
    },
    {
      "cell_type": "code",
      "metadata": {
        "id": "YOX_Rz1hUzVE",
        "colab": {
          "base_uri": "https://localhost:8080/"
        },
        "outputId": "e17e4175-bb4a-402b-a941-1b5261a2ae45"
      },
      "source": [
        "# E2D2\n",
        "# n_features ==> no of features at each timestep in the data.\n",
        "#\n",
        "encoder_inputs = tf.keras.layers.Input(shape=(n_past, n_features))\n",
        "encoder_l1 = tf.keras.layers.LSTM(256,return_sequences = True, return_state=True)\n",
        "encoder_outputs1 = encoder_l1(encoder_inputs)\n",
        "encoder_states1 = encoder_outputs1[1:]\n",
        "encoder_l2 = tf.keras.layers.LSTM(256, return_state=True)\n",
        "encoder_outputs2 = encoder_l2(encoder_outputs1[0])\n",
        "encoder_states2 = encoder_outputs2[1:]\n",
        "#\n",
        "decoder_inputs = tf.keras.layers.RepeatVector(n_future)(encoder_outputs2[0])\n",
        "#\n",
        "decoder_l1 = tf.keras.layers.LSTM(256, return_sequences=True)(decoder_inputs,initial_state = encoder_states1)\n",
        "decoder_l2 = tf.keras.layers.LSTM(256, return_sequences=True)(decoder_l1,initial_state = encoder_states2)\n",
        "decoder_outputs2 = tf.keras.layers.TimeDistributed(tf.keras.layers.Dense(n_features))(decoder_l2)\n",
        "#\n",
        "model_7 = tf.keras.models.Model(encoder_inputs,decoder_outputs2)\n",
        "#\n",
        "model_7.summary()"
      ],
      "execution_count": null,
      "outputs": [
        {
          "output_type": "stream",
          "text": [
            "Model: \"model_5\"\n",
            "__________________________________________________________________________________________________\n",
            "Layer (type)                    Output Shape         Param #     Connected to                     \n",
            "==================================================================================================\n",
            "input_6 (InputLayer)            [(None, 7, 1)]       0                                            \n",
            "__________________________________________________________________________________________________\n",
            "lstm_20 (LSTM)                  [(None, 7, 256), (No 264192      input_6[0][0]                    \n",
            "__________________________________________________________________________________________________\n",
            "lstm_21 (LSTM)                  [(None, 256), (None, 525312      lstm_20[0][0]                    \n",
            "__________________________________________________________________________________________________\n",
            "repeat_vector_5 (RepeatVector)  (None, 1, 256)       0           lstm_21[0][0]                    \n",
            "__________________________________________________________________________________________________\n",
            "lstm_22 (LSTM)                  (None, 1, 256)       525312      repeat_vector_5[0][0]            \n",
            "                                                                 lstm_20[0][1]                    \n",
            "                                                                 lstm_20[0][2]                    \n",
            "__________________________________________________________________________________________________\n",
            "lstm_23 (LSTM)                  (None, 1, 256)       525312      lstm_22[0][0]                    \n",
            "                                                                 lstm_21[0][1]                    \n",
            "                                                                 lstm_21[0][2]                    \n",
            "__________________________________________________________________________________________________\n",
            "time_distributed_5 (TimeDistrib (None, 1, 1)         257         lstm_23[0][0]                    \n",
            "==================================================================================================\n",
            "Total params: 1,840,385\n",
            "Trainable params: 1,840,385\n",
            "Non-trainable params: 0\n",
            "__________________________________________________________________________________________________\n"
          ],
          "name": "stdout"
        }
      ]
    },
    {
      "cell_type": "code",
      "metadata": {
        "id": "fTvP8ORkUzVF",
        "colab": {
          "base_uri": "https://localhost:8080/",
          "height": 1000,
          "referenced_widgets": [
            "c2e837ff593942d187c91e9aeffb6911",
            "999af9a23a4843228cc786d6e0de86a1",
            "69016e71559e448fa1c1b5fe78a96376",
            "d81bb24affcf430ea4c0d8edb43a1b92",
            "7fee599a3f6d4d1fb88af07c782d65fe",
            "7ee9ca99ec4146b581abd64a7a5a0465",
            "bd88474b691546ffb728a7d98b11cf16",
            "efd8f1e4ad5e4582bc98bf149c2a1964"
          ]
        },
        "outputId": "cd1b0f16-475f-42a4-91dd-fc47160b3889"
      },
      "source": [
        "reduce_lr = tf.keras.callbacks.LearningRateScheduler(lambda x: 1e-3 * 0.95 ** x)\n",
        "\n",
        "# 1. Start a new run\n",
        "wandb.init(project='seq2seq_final', entity='covid19india')\n",
        "\n",
        "# 2. Save model inputs and hyperparameters\n",
        "config = wandb.config\n",
        "config.random_state = random_state\n",
        "\n",
        "model_7.compile(optimizer=tf.keras.optimizers.Adam(), loss=tf.keras.losses.Huber(), metrics=[keras.metrics.MeanSquaredError(), keras.metrics.RootMeanSquaredError(), \n",
        "                             keras.metrics.MeanAbsoluteError(), keras.metrics.MeanAbsolutePercentageError()])\n",
        "history_7=model_7.fit(X_train,y_train,epochs=50,validation_split=0.3,batch_size=16,verbose=0,callbacks=[reduce_lr, WandbCallback()])"
      ],
      "execution_count": null,
      "outputs": [
        {
          "output_type": "display_data",
          "data": {
            "text/html": [
              "Finishing last run (ID:27l5fk4k) before initializing another..."
            ],
            "text/plain": [
              "<IPython.core.display.HTML object>"
            ]
          },
          "metadata": {
            "tags": []
          }
        },
        {
          "output_type": "display_data",
          "data": {
            "text/html": [
              "<br/>Waiting for W&B process to finish, PID 1121<br/>Program ended successfully."
            ],
            "text/plain": [
              "<IPython.core.display.HTML object>"
            ]
          },
          "metadata": {
            "tags": []
          }
        },
        {
          "output_type": "display_data",
          "data": {
            "application/vnd.jupyter.widget-view+json": {
              "model_id": "c2e837ff593942d187c91e9aeffb6911",
              "version_minor": 0,
              "version_major": 2
            },
            "text/plain": [
              "VBox(children=(Label(value=' 21.13MB of 21.13MB uploaded (0.00MB deduped)\\r'), FloatProgress(value=1.0, max=1.…"
            ]
          },
          "metadata": {
            "tags": []
          }
        },
        {
          "output_type": "display_data",
          "data": {
            "text/html": [
              "Find user logs for this run at: <code>/content/wandb/run-20210430_155853-27l5fk4k/logs/debug.log</code>"
            ],
            "text/plain": [
              "<IPython.core.display.HTML object>"
            ]
          },
          "metadata": {
            "tags": []
          }
        },
        {
          "output_type": "display_data",
          "data": {
            "text/html": [
              "Find internal logs for this run at: <code>/content/wandb/run-20210430_155853-27l5fk4k/logs/debug-internal.log</code>"
            ],
            "text/plain": [
              "<IPython.core.display.HTML object>"
            ]
          },
          "metadata": {
            "tags": []
          }
        },
        {
          "output_type": "display_data",
          "data": {
            "text/html": [
              "<h3>Run summary:</h3><br/><style>\n",
              "    table.wandb td:nth-child(1) { padding: 0 10px; text-align: right }\n",
              "    </style><table class=\"wandb\">\n",
              "<tr><td>epoch</td><td>49</td></tr><tr><td>loss</td><td>0.00076</td></tr><tr><td>mean_squared_error</td><td>0.00152</td></tr><tr><td>root_mean_squared_error</td><td>0.03903</td></tr><tr><td>mean_absolute_error</td><td>0.02043</td></tr><tr><td>mean_absolute_percentage_error</td><td>13426.31348</td></tr><tr><td>val_loss</td><td>0.00138</td></tr><tr><td>val_mean_squared_error</td><td>0.00276</td></tr><tr><td>val_root_mean_squared_error</td><td>0.05257</td></tr><tr><td>val_mean_absolute_error</td><td>0.03972</td></tr><tr><td>val_mean_absolute_percentage_error</td><td>17.34605</td></tr><tr><td>lr</td><td>8e-05</td></tr><tr><td>_runtime</td><td>81</td></tr><tr><td>_timestamp</td><td>1619798425</td></tr><tr><td>_step</td><td>49</td></tr><tr><td>best_val_loss</td><td>0.00075</td></tr><tr><td>best_epoch</td><td>2</td></tr></table>"
            ],
            "text/plain": [
              "<IPython.core.display.HTML object>"
            ]
          },
          "metadata": {
            "tags": []
          }
        },
        {
          "output_type": "display_data",
          "data": {
            "text/html": [
              "<h3>Run history:</h3><br/><style>\n",
              "    table.wandb td:nth-child(1) { padding: 0 10px; text-align: right }\n",
              "    </style><table class=\"wandb\">\n",
              "<tr><td>epoch</td><td>▁▁▁▁▂▂▂▂▂▃▃▃▃▃▃▄▄▄▄▄▅▅▅▅▅▅▆▆▆▆▆▆▇▇▇▇▇███</td></tr><tr><td>loss</td><td>█▁▂▁▁▁▁▁▁▁▁▁▁▁▁▁▁▁▁▁▁▁▁▁▁▁▁▁▁▁▁▁▁▁▁▁▁▁▁▁</td></tr><tr><td>mean_squared_error</td><td>█▁▂▁▁▁▁▁▁▁▁▁▁▁▁▁▁▁▁▁▁▁▁▁▁▁▁▁▁▁▁▁▁▁▁▁▁▁▁▁</td></tr><tr><td>root_mean_squared_error</td><td>█▂▂▂▁▁▁▁▁▁▂▁▁▁▁▁▁▁▁▁▁▁▁▁▁▁▁▁▁▁▁▁▁▁▁▁▁▁▁▁</td></tr><tr><td>mean_absolute_error</td><td>█▂▂▂▁▁▁▁▁▁▂▁▂▁▁▁▁▁▁▁▁▁▁▁▁▁▁▁▁▁▁▁▁▁▁▁▁▁▁▁</td></tr><tr><td>mean_absolute_percentage_error</td><td>█▂▂▂▁▁▁▁▁▁▂▁▁▁▁▁▁▁▁▁▂▂▂▁▁▁▁▁▁▁▁▁▁▁▁▁▁▁▁▁</td></tr><tr><td>val_loss</td><td>█▁▁▁▂▂▂▄▃▁▂▂▅▅▃▃▂▂▂▄▄▂▃▅▃▃▂▃▂▂▂▂▃▄▂▃▃▂▃▂</td></tr><tr><td>val_mean_squared_error</td><td>█▁▁▁▂▂▂▄▃▁▂▂▅▅▃▃▂▂▂▄▄▂▃▅▃▃▂▃▂▂▂▂▃▄▂▃▃▂▃▂</td></tr><tr><td>val_root_mean_squared_error</td><td>█▁▁▁▂▃▃▅▄▁▂▃▆▆▃▄▂▂▃▄▅▃▄▆▄▃▂▄▂▃▃▂▄▄▂▃▄▂▃▃</td></tr><tr><td>val_mean_absolute_error</td><td>█▁▁▁▂▂▃▅▄▁▂▃▆▆▃▄▂▂▃▄▅▃▄▆▄▃▂▄▂▃▂▂▄▄▂▃▄▂▃▃</td></tr><tr><td>val_mean_absolute_percentage_error</td><td>█▁▁▁▂▃▃▅▅▁▂▃▆▆▄▄▃▃▃▅▅▃▄▆▄▄▂▄▂▃▃▂▄▅▃▄▅▂▄▃</td></tr><tr><td>lr</td><td>██▇▇▆▆▆▅▅▅▄▄▄▄▄▃▃▃▃▃▂▂▂▂▂▂▂▂▂▂▂▁▁▁▁▁▁▁▁▁</td></tr><tr><td>_runtime</td><td>▁▁▁▂▂▂▂▂▂▃▃▃▃▃▃▄▄▄▄▄▅▅▅▅▅▅▆▆▆▆▆▆▇▇▇▇▇███</td></tr><tr><td>_timestamp</td><td>▁▁▁▂▂▂▂▂▂▃▃▃▃▃▃▄▄▄▄▄▅▅▅▅▅▅▆▆▆▆▆▆▇▇▇▇▇███</td></tr><tr><td>_step</td><td>▁▁▁▁▂▂▂▂▂▃▃▃▃▃▃▄▄▄▄▄▅▅▅▅▅▅▆▆▆▆▆▆▇▇▇▇▇███</td></tr></table><br/>"
            ],
            "text/plain": [
              "<IPython.core.display.HTML object>"
            ]
          },
          "metadata": {
            "tags": []
          }
        },
        {
          "output_type": "display_data",
          "data": {
            "text/html": [
              "Synced 5 W&B file(s), 0 media file(s), 0 artifact file(s) and 1 other file(s)"
            ],
            "text/plain": [
              "<IPython.core.display.HTML object>"
            ]
          },
          "metadata": {
            "tags": []
          }
        },
        {
          "output_type": "display_data",
          "data": {
            "text/html": [
              "\n",
              "                    <br/>Synced <strong style=\"color:#cdcd00\">lively-pine-4</strong>: <a href=\"https://wandb.ai/covid19india/seq2seq_final/runs/27l5fk4k\" target=\"_blank\">https://wandb.ai/covid19india/seq2seq_final/runs/27l5fk4k</a><br/>\n",
              "                "
            ],
            "text/plain": [
              "<IPython.core.display.HTML object>"
            ]
          },
          "metadata": {
            "tags": []
          }
        },
        {
          "output_type": "display_data",
          "data": {
            "text/html": [
              "...Successfully finished last run (ID:27l5fk4k). Initializing new run:<br/><br/>"
            ],
            "text/plain": [
              "<IPython.core.display.HTML object>"
            ]
          },
          "metadata": {
            "tags": []
          }
        },
        {
          "output_type": "display_data",
          "data": {
            "text/html": [
              "\n",
              "                Tracking run with wandb version 0.10.28<br/>\n",
              "                Syncing run <strong style=\"color:#cdcd00\">eager-wind-5</strong> to <a href=\"https://wandb.ai\" target=\"_blank\">Weights & Biases</a> <a href=\"https://docs.wandb.com/integrations/jupyter.html\" target=\"_blank\">(Documentation)</a>.<br/>\n",
              "                Project page: <a href=\"https://wandb.ai/covid19india/seq2seq_final\" target=\"_blank\">https://wandb.ai/covid19india/seq2seq_final</a><br/>\n",
              "                Run page: <a href=\"https://wandb.ai/covid19india/seq2seq_final/runs/349bkglz\" target=\"_blank\">https://wandb.ai/covid19india/seq2seq_final/runs/349bkglz</a><br/>\n",
              "                Run data is saved locally in <code>/content/wandb/run-20210430_160229-349bkglz</code><br/><br/>\n",
              "            "
            ],
            "text/plain": [
              "<IPython.core.display.HTML object>"
            ]
          },
          "metadata": {
            "tags": []
          }
        }
      ]
    },
    {
      "cell_type": "code",
      "metadata": {
        "id": "wGP9Xzo8UzVG",
        "colab": {
          "base_uri": "https://localhost:8080/",
          "height": 295
        },
        "outputId": "aa15bf57-c81d-409c-c4e5-17d5a573d3ef"
      },
      "source": [
        "plt.plot(history_7.history['loss'])\n",
        "plt.plot(history_7.history['val_loss'])\n",
        "plt.title(\"n=7 Model Loss\")\n",
        "plt.xlabel('Epochs')\n",
        "plt.ylabel('Loss')\n",
        "plt.legend(['Train', 'Valid'])\n",
        "plt.show()"
      ],
      "execution_count": null,
      "outputs": [
        {
          "output_type": "display_data",
          "data": {
            "image/png": "[encoded data removed]",
            "text/plain": [
              "<Figure size 432x288 with 1 Axes>"
            ]
          },
          "metadata": {
            "tags": [],
            "needs_background": "light"
          }
        }
      ]
    },
    {
      "cell_type": "code",
      "metadata": {
        "id": "RbmBlzq7UzVH"
      },
      "source": [
        "test_pred_7=model_7.predict(X_test)\n",
        "train_pred_7=model_7.predict(X_train)"
      ],
      "execution_count": null,
      "outputs": []
    },
    {
      "cell_type": "code",
      "metadata": {
        "id": "PQaDn2nWUzVI"
      },
      "source": [
        "for index,i in enumerate(train_df.columns):\n",
        "    scaler = scalers['scaler_'+i]\n",
        "    test_pred_7[:,:,index]=scaler.inverse_transform(test_pred_7[:,:,index])\n",
        "    train_pred_7[:,:,index]=scaler.inverse_transform(train_pred_7[:,:,index])\n",
        "    \n",
        "    y_train[:,:,index]=scaler.inverse_transform(y_train[:,:,index])\n",
        "    y_test[:,:,index]=scaler.inverse_transform(y_test[:,:,index])"
      ],
      "execution_count": null,
      "outputs": []
    },
    {
      "cell_type": "code",
      "metadata": {
        "id": "r9gAliDOUzVJ",
        "colab": {
          "base_uri": "https://localhost:8080/"
        },
        "outputId": "29e614ab-c2c0-4f7c-9ac0-80c1aff58371"
      },
      "source": [
        "from sklearn.metrics import mean_absolute_error\n",
        " \n",
        "for index,i in enumerate(train_df.columns):\n",
        "    print(i)\n",
        "    print(\"Train MAE-7 : \",mean_absolute_error(y_train[:,0,index],train_pred_7[:,0,index]))\n",
        "    print(\"Test MAE-7 : \",mean_absolute_error(y_test[:,0,index],test_pred_7[:,0,index]))"
      ],
      "execution_count": null,
      "outputs": [
        {
          "output_type": "stream",
          "text": [
            "Daily Confirmed\n",
            "Train MAE-7 :  2589.201477031368\n",
            "Test MAE-7 :  9719.561647727272\n"
          ],
          "name": "stdout"
        }
      ]
    },
    {
      "cell_type": "code",
      "metadata": {
        "colab": {
          "base_uri": "https://localhost:8080/",
          "height": 511
        },
        "id": "XQAzqx5wfNXI",
        "outputId": "c45a4816-df82-46bf-c989-b188fa668021"
      },
      "source": [
        "plt.figure(figsize=(15,8))\n",
        "\n",
        "true = np.append(y_train[:,0,-1], y_test[:,0,-1])\n",
        "plt.plot(train_pred_7[:,0,-1],color = 'orange', label = 'train_predictions')\n",
        "plt.plot(range(train_pred_7.shape[0]+1,true.shape[0]+1), test_pred_7[:,0,-1],color = 'blue', label = 'test_predictions')\n",
        "plt.plot(true,color = 'green', label = 'actual')\n",
        "plt.xlabel(\"days\", fontsize=10)\n",
        "plt.ylabel(\"Number of New Cases\", fontsize=10)\n",
        "plt.title(\"COVID-19 India\", fontsize=10)\n",
        "plt.axvline(x=train_pred_7.shape[0], color='black')\n",
        "plt.legend()\n",
        "wandb.log({\"actual_vs_predicted\": wandb.Image(plt)})"
      ],
      "execution_count": null,
      "outputs": [
        {
          "output_type": "display_data",
          "data": {
            "image/png": "[encoded data removed]",
            "text/plain": [
              "<Figure size 1080x576 with 1 Axes>"
            ]
          },
          "metadata": {
            "tags": [],
            "needs_background": "light"
          }
        }
      ]
    },
    {
      "cell_type": "code",
      "metadata": {
        "id": "FZUCEl1EfcRa"
      },
      "source": [
        "df_save['7'] = test_pred_7.reshape(-1)"
      ],
      "execution_count": null,
      "outputs": []
    },
    {
      "cell_type": "markdown",
      "metadata": {
        "id": "Fi0CRTAHf_J6"
      },
      "source": [
        "## Data formatting - Using past 10 days"
      ]
    },
    {
      "cell_type": "code",
      "metadata": {
        "id": "LSY77EhBf_J7"
      },
      "source": [
        "n_past = 10\n",
        "n_future = 1"
      ],
      "execution_count": null,
      "outputs": []
    },
    {
      "cell_type": "code",
      "metadata": {
        "id": "EerMlM95f_J7"
      },
      "source": [
        "df = pd.read_csv('/content/drive/MyDrive/ML/cleaned.csv', index_col='Day')"
      ],
      "execution_count": null,
      "outputs": []
    },
    {
      "cell_type": "code",
      "metadata": {
        "id": "9UM00GVnf_J8"
      },
      "source": [
        "def select_columns(df):\n",
        "  cols_to_keep = [       \n",
        "      'Daily Confirmed'      \n",
        "  ]\n",
        "  df_subset = df[cols_to_keep]\n",
        "#   df_subset[i] = df_subset[i].rolling(window=7).mean().iloc[7-1:]\n",
        "  return len(cols_to_keep), df_subset"
      ],
      "execution_count": null,
      "outputs": []
    },
    {
      "cell_type": "code",
      "metadata": {
        "id": "Ppv2gYt_f_J8"
      },
      "source": [
        "n_features, df_2 = select_columns(df)\n",
        "df_3 = df_2.copy(deep=True)"
      ],
      "execution_count": null,
      "outputs": []
    },
    {
      "cell_type": "code",
      "metadata": {
        "id": "fHSgRYNqf_J8"
      },
      "source": [
        "train_df, test_df = df_2[:400], df_3[400-n_past+1:]"
      ],
      "execution_count": null,
      "outputs": []
    },
    {
      "cell_type": "code",
      "metadata": {
        "id": "RYrzdrQtf_J9"
      },
      "source": [
        "# scaling training data to (0,1)\n",
        "train = train_df\n",
        "scalers={}\n",
        "for i in train_df.columns:\n",
        "    scaler = MinMaxScaler(feature_range=(0,1))\n",
        "    s_s = scaler.fit_transform(train[i].values.reshape(-1,1))\n",
        "    s_s=np.reshape(s_s,len(s_s))\n",
        "    scalers['scaler_'+ i] = scaler\n",
        "    train[i]=s_s\n",
        "\n",
        "# transfoming testing data on the training data\n",
        "test = test_df\n",
        "for i in train_df.columns:\n",
        "    scaler = scalers['scaler_'+i]\n",
        "    s_s = scaler.transform(test[i].values.reshape(-1,1))\n",
        "    s_s=np.reshape(s_s,len(s_s))\n",
        "    scalers['scaler_'+i] = scaler\n",
        "    test[i]=s_s"
      ],
      "execution_count": null,
      "outputs": []
    },
    {
      "cell_type": "code",
      "metadata": {
        "colab": {
          "base_uri": "https://localhost:8080/",
          "height": 742
        },
        "id": "ZvulPSKlf_J9",
        "outputId": "a4c597f6-b9f7-4041-b050-85f1581a9dcd"
      },
      "source": [
        "fig=plt.figure(figsize=(15, 10), dpi= 80, facecolor='w', edgecolor='k')\n",
        "plt.plot(train['Daily Confirmed'].values,color = 'black', label = 'daily cases')\n",
        "\n",
        "plt.xlabel(\"days\", fontsize=30)\n",
        "plt.ylabel(\"Scaled number of New Cases\", fontsize=30)\n",
        "plt.title(\"COVID-19 India\", fontsize=30)\n",
        "plt.legend()"
      ],
      "execution_count": null,
      "outputs": [
        {
          "output_type": "execute_result",
          "data": {
            "text/plain": [
              "<matplotlib.legend.Legend at 0x7f7998b51a50>"
            ]
          },
          "metadata": {
            "tags": []
          },
          "execution_count": 106
        },
        {
          "output_type": "display_data",
          "data": {
            "image/png": "[encoded data removed]",
            "text/plain": [
              "<Figure size 1200x800 with 1 Axes>"
            ]
          },
          "metadata": {
            "tags": []
          }
        }
      ]
    },
    {
      "cell_type": "code",
      "metadata": {
        "id": "4RMrlSZ4f_J9"
      },
      "source": [
        "def split_series(series, n_past, n_future):\n",
        "  #\n",
        "  # n_past ==> no of past observations\n",
        "  #\n",
        "  # n_future ==> no of future observations \n",
        "  #\n",
        "    X, y = list(), list()\n",
        "    for window_start in range(len(series)):\n",
        "        past_end = window_start + n_past\n",
        "        future_end = past_end + n_future\n",
        "        if future_end > len(series):\n",
        "            break\n",
        "        # slicing the past and future parts of the window\n",
        "        past, future = series[window_start:past_end, :], series[past_end:future_end, :]\n",
        "        X.append(past)\n",
        "        y.append(future)\n",
        "    return np.array(X), np.array(y)"
      ],
      "execution_count": null,
      "outputs": []
    },
    {
      "cell_type": "code",
      "metadata": {
        "id": "ldiqOEhnf_J-"
      },
      "source": [
        "X_train, y_train = split_series(train.values,n_past, n_future)\n",
        "X_train = X_train.reshape((X_train.shape[0], X_train.shape[1],n_features))\n",
        "y_train = y_train.reshape((y_train.shape[0], y_train.shape[1], n_features))\n",
        "\n",
        "X_test, y_test = split_series(test.values,n_past, n_future)\n",
        "X_test = X_test.reshape((X_test.shape[0], X_test.shape[1],n_features))\n",
        "y_test = y_test.reshape((y_test.shape[0], y_test.shape[1], n_features))"
      ],
      "execution_count": null,
      "outputs": []
    },
    {
      "cell_type": "code",
      "metadata": {
        "colab": {
          "base_uri": "https://localhost:8080/"
        },
        "id": "olApoRfvf_J-",
        "outputId": "23aac1cc-066c-4b62-be79-4aa08f4c711e"
      },
      "source": [
        "# E2D2\n",
        "# n_features ==> no of features at each timestep in the data.\n",
        "#\n",
        "encoder_inputs = tf.keras.layers.Input(shape=(n_past, n_features))\n",
        "encoder_l1 = tf.keras.layers.LSTM(256,return_sequences = True, return_state=True)\n",
        "encoder_outputs1 = encoder_l1(encoder_inputs)\n",
        "encoder_states1 = encoder_outputs1[1:]\n",
        "encoder_l2 = tf.keras.layers.LSTM(256, return_state=True)\n",
        "encoder_outputs2 = encoder_l2(encoder_outputs1[0])\n",
        "encoder_states2 = encoder_outputs2[1:]\n",
        "#\n",
        "decoder_inputs = tf.keras.layers.RepeatVector(n_future)(encoder_outputs2[0])\n",
        "#\n",
        "decoder_l1 = tf.keras.layers.LSTM(256, return_sequences=True)(decoder_inputs,initial_state = encoder_states1)\n",
        "decoder_l2 = tf.keras.layers.LSTM(256, return_sequences=True)(decoder_l1,initial_state = encoder_states2)\n",
        "decoder_outputs2 = tf.keras.layers.TimeDistributed(tf.keras.layers.Dense(n_features))(decoder_l2)\n",
        "#\n",
        "model_10 = tf.keras.models.Model(encoder_inputs,decoder_outputs2)\n",
        "#\n",
        "model_10.summary()"
      ],
      "execution_count": null,
      "outputs": [
        {
          "output_type": "stream",
          "text": [
            "Model: \"model_6\"\n",
            "__________________________________________________________________________________________________\n",
            "Layer (type)                    Output Shape         Param #     Connected to                     \n",
            "==================================================================================================\n",
            "input_7 (InputLayer)            [(None, 10, 1)]      0                                            \n",
            "__________________________________________________________________________________________________\n",
            "lstm_24 (LSTM)                  [(None, 10, 256), (N 264192      input_7[0][0]                    \n",
            "__________________________________________________________________________________________________\n",
            "lstm_25 (LSTM)                  [(None, 256), (None, 525312      lstm_24[0][0]                    \n",
            "__________________________________________________________________________________________________\n",
            "repeat_vector_6 (RepeatVector)  (None, 1, 256)       0           lstm_25[0][0]                    \n",
            "__________________________________________________________________________________________________\n",
            "lstm_26 (LSTM)                  (None, 1, 256)       525312      repeat_vector_6[0][0]            \n",
            "                                                                 lstm_24[0][1]                    \n",
            "                                                                 lstm_24[0][2]                    \n",
            "__________________________________________________________________________________________________\n",
            "lstm_27 (LSTM)                  (None, 1, 256)       525312      lstm_26[0][0]                    \n",
            "                                                                 lstm_25[0][1]                    \n",
            "                                                                 lstm_25[0][2]                    \n",
            "__________________________________________________________________________________________________\n",
            "time_distributed_6 (TimeDistrib (None, 1, 1)         257         lstm_27[0][0]                    \n",
            "==================================================================================================\n",
            "Total params: 1,840,385\n",
            "Trainable params: 1,840,385\n",
            "Non-trainable params: 0\n",
            "__________________________________________________________________________________________________\n"
          ],
          "name": "stdout"
        }
      ]
    },
    {
      "cell_type": "code",
      "metadata": {
        "colab": {
          "base_uri": "https://localhost:8080/",
          "height": 1000,
          "referenced_widgets": [
            "a51b4feb52514a04a4e54b90c7dd4007",
            "258ad7181b9b497f9be0109e8e3b4399",
            "2e1be01aff3a482fb12379642bbb4b5e",
            "3ebd570b58c546988bf71607c1d10009",
            "4d628f0f16ba4f9c82a71992f55130fe",
            "7d7dfdb4836248f9b4a389f01ed4a19f",
            "d368c317a60b4213a7e833c5da7f8ef2",
            "49dcff07e95b4317933b8c3d01d7348c"
          ]
        },
        "id": "kGuND85if_J-",
        "outputId": "361a5b9f-5040-4e00-952c-f195addf02b3"
      },
      "source": [
        "reduce_lr = tf.keras.callbacks.LearningRateScheduler(lambda x: 1e-3 * 0.95 ** x)\n",
        "\n",
        "# 1. Start a new run\n",
        "wandb.init(project='seq2seq_final', entity='covid19india')\n",
        "\n",
        "# 2. Save model inputs and hyperparameters\n",
        "config = wandb.config\n",
        "config.random_state = random_state\n",
        "\n",
        "model_10.compile(optimizer=tf.keras.optimizers.Adam(), loss=tf.keras.losses.Huber(), metrics=[keras.metrics.MeanSquaredError(), keras.metrics.RootMeanSquaredError(), \n",
        "                             keras.metrics.MeanAbsoluteError(), keras.metrics.MeanAbsolutePercentageError()])\n",
        "history_10=model_10.fit(X_train,y_train,epochs=50,validation_split=0.3,batch_size=16,verbose=0,callbacks=[reduce_lr, WandbCallback()])"
      ],
      "execution_count": null,
      "outputs": [
        {
          "output_type": "display_data",
          "data": {
            "text/html": [
              "Finishing last run (ID:349bkglz) before initializing another..."
            ],
            "text/plain": [
              "<IPython.core.display.HTML object>"
            ]
          },
          "metadata": {
            "tags": []
          }
        },
        {
          "output_type": "display_data",
          "data": {
            "text/html": [
              "<br/>Waiting for W&B process to finish, PID 1362<br/>Program ended successfully."
            ],
            "text/plain": [
              "<IPython.core.display.HTML object>"
            ]
          },
          "metadata": {
            "tags": []
          }
        },
        {
          "output_type": "display_data",
          "data": {
            "application/vnd.jupyter.widget-view+json": {
              "model_id": "a51b4feb52514a04a4e54b90c7dd4007",
              "version_minor": 0,
              "version_major": 2
            },
            "text/plain": [
              "VBox(children=(Label(value=' 25.58MB of 25.58MB uploaded (0.00MB deduped)\\r'), FloatProgress(value=1.0, max=1.…"
            ]
          },
          "metadata": {
            "tags": []
          }
        },
        {
          "output_type": "display_data",
          "data": {
            "text/html": [
              "Find user logs for this run at: <code>/content/wandb/run-20210430_160229-349bkglz/logs/debug.log</code>"
            ],
            "text/plain": [
              "<IPython.core.display.HTML object>"
            ]
          },
          "metadata": {
            "tags": []
          }
        },
        {
          "output_type": "display_data",
          "data": {
            "text/html": [
              "Find internal logs for this run at: <code>/content/wandb/run-20210430_160229-349bkglz/logs/debug-internal.log</code>"
            ],
            "text/plain": [
              "<IPython.core.display.HTML object>"
            ]
          },
          "metadata": {
            "tags": []
          }
        },
        {
          "output_type": "display_data",
          "data": {
            "text/html": [
              "<h3>Run summary:</h3><br/><style>\n",
              "    table.wandb td:nth-child(1) { padding: 0 10px; text-align: right }\n",
              "    </style><table class=\"wandb\">\n",
              "<tr><td>epoch</td><td>49</td></tr><tr><td>loss</td><td>0.00077</td></tr><tr><td>mean_squared_error</td><td>0.00154</td></tr><tr><td>root_mean_squared_error</td><td>0.03919</td></tr><tr><td>mean_absolute_error</td><td>0.02052</td></tr><tr><td>mean_absolute_percentage_error</td><td>14271.9707</td></tr><tr><td>val_loss</td><td>0.00141</td></tr><tr><td>val_mean_squared_error</td><td>0.00282</td></tr><tr><td>val_root_mean_squared_error</td><td>0.05307</td></tr><tr><td>val_mean_absolute_error</td><td>0.04028</td></tr><tr><td>val_mean_absolute_percentage_error</td><td>17.58361</td></tr><tr><td>lr</td><td>8e-05</td></tr><tr><td>_runtime</td><td>273</td></tr><tr><td>_timestamp</td><td>1619798825</td></tr><tr><td>_step</td><td>50</td></tr><tr><td>best_val_loss</td><td>0.00075</td></tr><tr><td>best_epoch</td><td>2</td></tr></table>"
            ],
            "text/plain": [
              "<IPython.core.display.HTML object>"
            ]
          },
          "metadata": {
            "tags": []
          }
        },
        {
          "output_type": "display_data",
          "data": {
            "text/html": [
              "<h3>Run history:</h3><br/><style>\n",
              "    table.wandb td:nth-child(1) { padding: 0 10px; text-align: right }\n",
              "    </style><table class=\"wandb\">\n",
              "<tr><td>epoch</td><td>▁▁▁▁▂▂▂▂▂▃▃▃▃▃▃▄▄▄▄▄▅▅▅▅▅▅▆▆▆▆▆▆▇▇▇▇▇███</td></tr><tr><td>loss</td><td>█▂▂▁▁▁▁▁▁▁▁▁▁▁▁▁▁▁▁▁▁▁▁▁▁▁▁▁▁▁▁▁▁▁▁▁▁▁▁▁</td></tr><tr><td>mean_squared_error</td><td>█▂▂▁▁▁▁▁▁▁▁▁▁▁▁▁▁▁▁▁▁▁▁▁▁▁▁▁▁▁▁▁▁▁▁▁▁▁▁▁</td></tr><tr><td>root_mean_squared_error</td><td>█▂▂▂▁▁▁▁▁▁▂▁▁▁▁▁▁▁▁▁▁▁▁▁▁▁▁▁▁▁▁▁▁▁▁▁▁▁▁▁</td></tr><tr><td>mean_absolute_error</td><td>█▃▃▂▁▁▁▁▁▁▂▁▂▁▁▁▁▁▁▁▁▁▁▁▁▁▁▁▁▁▁▁▁▁▁▁▁▁▁▁</td></tr><tr><td>mean_absolute_percentage_error</td><td>█▃▂▂▁▁▁▁▁▁▂▁▁▁▁▁▁▁▁▁▂▁▂▁▁▁▁▁▁▁▁▁▁▁▁▁▁▁▁▁</td></tr><tr><td>val_loss</td><td>█▁▁▁▂▂▃▅▄▁▂▃▆▆▃▃▂▂▃▄▄▃▃▆▃▃▂▃▂▂▂▂▃▄▂▃▄▂▃▃</td></tr><tr><td>val_mean_squared_error</td><td>█▁▁▁▂▂▃▅▄▁▂▃▆▆▃▃▂▂▃▄▄▃▃▆▃▃▂▃▂▂▂▂▃▄▂▃▄▂▃▃</td></tr><tr><td>val_root_mean_squared_error</td><td>█▁▁▁▂▃▃▅▄▁▂▃▆▆▄▄▃▃▃▅▅▃▄▆▄▄▂▄▂▃▃▂▄▅▂▃▄▂▄▃</td></tr><tr><td>val_mean_absolute_error</td><td>█▁▁▁▂▃▃▅▄▁▂▃▇▇▄▄▂▃▃▅▅▃▄▆▄▄▂▄▂▃▃▂▄▅▂▃▄▂▄▃</td></tr><tr><td>val_mean_absolute_percentage_error</td><td>█▁▁▁▃▃▄▆▅▁▂▄▇▇▄▄▃▃▃▅▅▄▄▇▄▄▃▄▂▃▃▂▅▅▃▄▅▂▄▃</td></tr><tr><td>lr</td><td>██▇▇▆▆▆▅▅▅▄▄▄▄▄▃▃▃▃▃▂▂▂▂▂▂▂▂▂▂▂▁▁▁▁▁▁▁▁▁</td></tr><tr><td>_runtime</td><td>▁▁▁▁▁▁▁▁▁▁▁▂▂▂▂▂▂▂▂▂▂▂▂▂▂▂▂▂▂▂▂▂▂▃▃▃▃▃▃█</td></tr><tr><td>_timestamp</td><td>▁▁▁▁▁▁▁▁▁▁▁▂▂▂▂▂▂▂▂▂▂▂▂▂▂▂▂▂▂▂▂▂▂▃▃▃▃▃▃█</td></tr><tr><td>_step</td><td>▁▁▁▁▂▂▂▂▂▃▃▃▃▃▃▄▄▄▄▄▅▅▅▅▅▅▆▆▆▆▆▆▇▇▇▇▇███</td></tr></table><br/>"
            ],
            "text/plain": [
              "<IPython.core.display.HTML object>"
            ]
          },
          "metadata": {
            "tags": []
          }
        },
        {
          "output_type": "display_data",
          "data": {
            "text/html": [
              "Synced 5 W&B file(s), 1 media file(s), 21 artifact file(s) and 2 other file(s)"
            ],
            "text/plain": [
              "<IPython.core.display.HTML object>"
            ]
          },
          "metadata": {
            "tags": []
          }
        },
        {
          "output_type": "display_data",
          "data": {
            "text/html": [
              "\n",
              "                    <br/>Synced <strong style=\"color:#cdcd00\">eager-wind-5</strong>: <a href=\"https://wandb.ai/covid19india/seq2seq_final/runs/349bkglz\" target=\"_blank\">https://wandb.ai/covid19india/seq2seq_final/runs/349bkglz</a><br/>\n",
              "                "
            ],
            "text/plain": [
              "<IPython.core.display.HTML object>"
            ]
          },
          "metadata": {
            "tags": []
          }
        },
        {
          "output_type": "display_data",
          "data": {
            "text/html": [
              "...Successfully finished last run (ID:349bkglz). Initializing new run:<br/><br/>"
            ],
            "text/plain": [
              "<IPython.core.display.HTML object>"
            ]
          },
          "metadata": {
            "tags": []
          }
        },
        {
          "output_type": "display_data",
          "data": {
            "text/html": [
              "\n",
              "                Tracking run with wandb version 0.10.28<br/>\n",
              "                Syncing run <strong style=\"color:#cdcd00\">ethereal-bush-6</strong> to <a href=\"https://wandb.ai\" target=\"_blank\">Weights & Biases</a> <a href=\"https://docs.wandb.com/integrations/jupyter.html\" target=\"_blank\">(Documentation)</a>.<br/>\n",
              "                Project page: <a href=\"https://wandb.ai/covid19india/seq2seq_final\" target=\"_blank\">https://wandb.ai/covid19india/seq2seq_final</a><br/>\n",
              "                Run page: <a href=\"https://wandb.ai/covid19india/seq2seq_final/runs/2asw6noc\" target=\"_blank\">https://wandb.ai/covid19india/seq2seq_final/runs/2asw6noc</a><br/>\n",
              "                Run data is saved locally in <code>/content/wandb/run-20210430_160748-2asw6noc</code><br/><br/>\n",
              "            "
            ],
            "text/plain": [
              "<IPython.core.display.HTML object>"
            ]
          },
          "metadata": {
            "tags": []
          }
        }
      ]
    },
    {
      "cell_type": "code",
      "metadata": {
        "colab": {
          "base_uri": "https://localhost:8080/",
          "height": 295
        },
        "id": "h9_ILldLf_J_",
        "outputId": "260c19bf-bf48-432b-94d0-6f8e085ce54b"
      },
      "source": [
        "plt.plot(history_10.history['loss'])\n",
        "plt.plot(history_10.history['val_loss'])\n",
        "plt.title(\"n=10 Model Loss\")\n",
        "plt.xlabel('Epochs')\n",
        "plt.ylabel('Loss')\n",
        "plt.legend(['Train', 'Valid'])\n",
        "plt.show()"
      ],
      "execution_count": null,
      "outputs": [
        {
          "output_type": "display_data",
          "data": {
            "image/png": "[encoded data removed]",
            "text/plain": [
              "<Figure size 432x288 with 1 Axes>"
            ]
          },
          "metadata": {
            "tags": [],
            "needs_background": "light"
          }
        }
      ]
    },
    {
      "cell_type": "code",
      "metadata": {
        "id": "t15MRh-6f_J_"
      },
      "source": [
        "test_pred_10=model_10.predict(X_test)\n",
        "train_pred_10=model_10.predict(X_train)"
      ],
      "execution_count": null,
      "outputs": []
    },
    {
      "cell_type": "code",
      "metadata": {
        "id": "KlZXEeq9f_J_"
      },
      "source": [
        "for index,i in enumerate(train_df.columns):\n",
        "    scaler = scalers['scaler_'+i]\n",
        "    test_pred_10[:,:,index]=scaler.inverse_transform(test_pred_10[:,:,index])\n",
        "    train_pred_10[:,:,index]=scaler.inverse_transform(train_pred_10[:,:,index])\n",
        "    \n",
        "    y_train[:,:,index]=scaler.inverse_transform(y_train[:,:,index])\n",
        "    y_test[:,:,index]=scaler.inverse_transform(y_test[:,:,index])"
      ],
      "execution_count": null,
      "outputs": []
    },
    {
      "cell_type": "code",
      "metadata": {
        "colab": {
          "base_uri": "https://localhost:8080/"
        },
        "id": "n9K_NB2Qf_J_",
        "outputId": "1bcc4c9b-27ff-4c4b-fb88-85c05fd9613d"
      },
      "source": [
        "from sklearn.metrics import mean_absolute_error, mean_squared_error\n",
        " \n",
        "for index,i in enumerate(train_df.columns):\n",
        "    print(i)\n",
        "    # print(\"Train MAE-10 : \",mean_absolute_error(y_train[:,0,index],train_pred_10[:,0,index]))\n",
        "    print(\"Test MAE-10 : \",mean_absolute_error(y_test[:,0,index],test_pred_10[:,0,index]))\n",
        "    # print(\"Train MAE-10 : \",mean_squared_error(y_train[:,0,index],train_pred_10[:,0,index], squared=False))\n",
        "    print(\"Test MAE-10 : \",mean_squared_error(y_test[:,0,index],test_pred_10[:,0,index], squared=False))"
      ],
      "execution_count": null,
      "outputs": [
        {
          "output_type": "stream",
          "text": [
            "Daily Confirmed\n",
            "Test MAE-10 :  8972.07109375\n",
            "Test MAE-10 :  14672.892711163991\n"
          ],
          "name": "stdout"
        }
      ]
    },
    {
      "cell_type": "code",
      "metadata": {
        "colab": {
          "base_uri": "https://localhost:8080/",
          "height": 511
        },
        "id": "g2d0xlPGf_KA",
        "outputId": "017d8524-cf8e-462b-9141-5547bd0d7dc9"
      },
      "source": [
        "plt.figure(figsize=(15,8))\n",
        "\n",
        "true = np.append(y_train[:,0,-1], y_test[:,0,-1])\n",
        "plt.plot(train_pred_10[:,0,-1],color = 'orange', label = 'train_predictions')\n",
        "plt.plot(range(train_pred_10.shape[0]+1,true.shape[0]+1), test_pred_10[:,0,-1],color = 'blue', label = 'test_predictions')\n",
        "plt.plot(true,color = 'green', label = 'actual')\n",
        "plt.xlabel(\"days\", fontsize=10)\n",
        "plt.ylabel(\"Number of New Cases\", fontsize=10)\n",
        "plt.title(\"COVID-19 India\", fontsize=10)\n",
        "plt.axvline(x=train_pred_10.shape[0], color='black')\n",
        "plt.legend()\n",
        "wandb.log({\"actual_vs_predicted\": wandb.Image(plt)})"
      ],
      "execution_count": null,
      "outputs": [
        {
          "output_type": "display_data",
          "data": {
            "image/png": "[encoded data removed]",
            "text/plain": [
              "<Figure size 1080x576 with 1 Axes>"
            ]
          },
          "metadata": {
            "tags": [],
            "needs_background": "light"
          }
        }
      ]
    },
    {
      "cell_type": "code",
      "metadata": {
        "id": "4RaUCIjlf_KA"
      },
      "source": [
        "df_save['10'] = test_pred_10.reshape(-1)"
      ],
      "execution_count": null,
      "outputs": []
    },
    {
      "cell_type": "markdown",
      "metadata": {
        "id": "anl9vxKLgAy_"
      },
      "source": [
        "## Data formatting - Using past 7 days"
      ]
    },
    {
      "cell_type": "code",
      "metadata": {
        "id": "dNSW1XPWgAzB"
      },
      "source": [
        "n_past = 14\n",
        "n_future = 1"
      ],
      "execution_count": null,
      "outputs": []
    },
    {
      "cell_type": "code",
      "metadata": {
        "id": "8bmHbrJkgAzC"
      },
      "source": [
        "df = pd.read_csv('/content/drive/MyDrive/ML/cleaned.csv', index_col='Day')"
      ],
      "execution_count": null,
      "outputs": []
    },
    {
      "cell_type": "code",
      "metadata": {
        "id": "uwF_DQG5gAzD"
      },
      "source": [
        "def select_columns(df):\n",
        "  cols_to_keep = [       \n",
        "      'Daily Confirmed'      \n",
        "  ]\n",
        "  df_subset = df[cols_to_keep]\n",
        "#   df_subset[i] = df_subset[i].rolling(window=7).mean().iloc[7-1:]\n",
        "  return len(cols_to_keep), df_subset"
      ],
      "execution_count": null,
      "outputs": []
    },
    {
      "cell_type": "code",
      "metadata": {
        "id": "WEXLR2-8gAzE"
      },
      "source": [
        "n_features, df_2 = select_columns(df)\n",
        "df_3 = df_2.copy(deep=True)"
      ],
      "execution_count": null,
      "outputs": []
    },
    {
      "cell_type": "code",
      "metadata": {
        "id": "6mhSGb--gAzE"
      },
      "source": [
        "train_df, test_df = df_2[:400], df_3[400-n_past+1:]"
      ],
      "execution_count": null,
      "outputs": []
    },
    {
      "cell_type": "code",
      "metadata": {
        "id": "OcPWNCjEgAzF"
      },
      "source": [
        "# scaling training data to (0,1)\n",
        "train = train_df\n",
        "scalers={}\n",
        "for i in train_df.columns:\n",
        "    scaler = MinMaxScaler(feature_range=(0,1))\n",
        "    s_s = scaler.fit_transform(train[i].values.reshape(-1,1))\n",
        "    s_s=np.reshape(s_s,len(s_s))\n",
        "    scalers['scaler_'+ i] = scaler\n",
        "    train[i]=s_s\n",
        "\n",
        "# transfoming testing data on the training data\n",
        "test = test_df\n",
        "for i in train_df.columns:\n",
        "    scaler = scalers['scaler_'+i]\n",
        "    s_s = scaler.transform(test[i].values.reshape(-1,1))\n",
        "    s_s=np.reshape(s_s,len(s_s))\n",
        "    scalers['scaler_'+i] = scaler\n",
        "    test[i]=s_s"
      ],
      "execution_count": null,
      "outputs": []
    },
    {
      "cell_type": "code",
      "metadata": {
        "colab": {
          "base_uri": "https://localhost:8080/",
          "height": 742
        },
        "id": "FjiWCIzHgAzG",
        "outputId": "d048d43b-306b-4b0f-bb48-fffca4895470"
      },
      "source": [
        "fig=plt.figure(figsize=(15, 10), dpi= 80, facecolor='w', edgecolor='k')\n",
        "plt.plot(train['Daily Confirmed'].values,color = 'black', label = 'daily cases')\n",
        "\n",
        "plt.xlabel(\"days\", fontsize=30)\n",
        "plt.ylabel(\"Scaled number of New Cases\", fontsize=30)\n",
        "plt.title(\"COVID-19 India\", fontsize=30)\n",
        "plt.legend()"
      ],
      "execution_count": null,
      "outputs": [
        {
          "output_type": "execute_result",
          "data": {
            "text/plain": [
              "<matplotlib.legend.Legend at 0x7f7998b48ad0>"
            ]
          },
          "metadata": {
            "tags": []
          },
          "execution_count": 123
        },
        {
          "output_type": "display_data",
          "data": {
            "image/png": "[encoded data removed]",
            "text/plain": [
              "<Figure size 1200x800 with 1 Axes>"
            ]
          },
          "metadata": {
            "tags": []
          }
        }
      ]
    },
    {
      "cell_type": "code",
      "metadata": {
        "id": "Bw-pgqXhgAzH"
      },
      "source": [
        "def split_series(series, n_past, n_future):\n",
        "  #\n",
        "  # n_past ==> no of past observations\n",
        "  #\n",
        "  # n_future ==> no of future observations \n",
        "  #\n",
        "    X, y = list(), list()\n",
        "    for window_start in range(len(series)):\n",
        "        past_end = window_start + n_past\n",
        "        future_end = past_end + n_future\n",
        "        if future_end > len(series):\n",
        "            break\n",
        "        # slicing the past and future parts of the window\n",
        "        past, future = series[window_start:past_end, :], series[past_end:future_end, :]\n",
        "        X.append(past)\n",
        "        y.append(future)\n",
        "    return np.array(X), np.array(y)"
      ],
      "execution_count": null,
      "outputs": []
    },
    {
      "cell_type": "code",
      "metadata": {
        "id": "5lsG24FigAzI"
      },
      "source": [
        "X_train, y_train = split_series(train.values,n_past, n_future)\n",
        "X_train = X_train.reshape((X_train.shape[0], X_train.shape[1],n_features))\n",
        "y_train = y_train.reshape((y_train.shape[0], y_train.shape[1], n_features))\n",
        "\n",
        "X_test, y_test = split_series(test.values,n_past, n_future)\n",
        "X_test = X_test.reshape((X_test.shape[0], X_test.shape[1],n_features))\n",
        "y_test = y_test.reshape((y_test.shape[0], y_test.shape[1], n_features))"
      ],
      "execution_count": null,
      "outputs": []
    },
    {
      "cell_type": "code",
      "metadata": {
        "colab": {
          "base_uri": "https://localhost:8080/"
        },
        "id": "D-1KLCE6gAzJ",
        "outputId": "c9acaeb8-605c-4547-80d0-b0310e1d3e28"
      },
      "source": [
        "# E2D2\n",
        "# n_features ==> no of features at each timestep in the data.\n",
        "#\n",
        "encoder_inputs = tf.keras.layers.Input(shape=(n_past, n_features))\n",
        "encoder_l1 = tf.keras.layers.LSTM(256,return_sequences = True, return_state=True)\n",
        "encoder_outputs1 = encoder_l1(encoder_inputs)\n",
        "encoder_states1 = encoder_outputs1[1:]\n",
        "encoder_l2 = tf.keras.layers.LSTM(256, return_state=True)\n",
        "encoder_outputs2 = encoder_l2(encoder_outputs1[0])\n",
        "encoder_states2 = encoder_outputs2[1:]\n",
        "#\n",
        "decoder_inputs = tf.keras.layers.RepeatVector(n_future)(encoder_outputs2[0])\n",
        "#\n",
        "decoder_l1 = tf.keras.layers.LSTM(256, return_sequences=True)(decoder_inputs,initial_state = encoder_states1)\n",
        "decoder_l2 = tf.keras.layers.LSTM(256, return_sequences=True)(decoder_l1,initial_state = encoder_states2)\n",
        "decoder_outputs2 = tf.keras.layers.TimeDistributed(tf.keras.layers.Dense(n_features))(decoder_l2)\n",
        "#\n",
        "model_14 = tf.keras.models.Model(encoder_inputs,decoder_outputs2)\n",
        "#\n",
        "model_14.summary()"
      ],
      "execution_count": null,
      "outputs": [
        {
          "output_type": "stream",
          "text": [
            "Model: \"model_7\"\n",
            "__________________________________________________________________________________________________\n",
            "Layer (type)                    Output Shape         Param #     Connected to                     \n",
            "==================================================================================================\n",
            "input_8 (InputLayer)            [(None, 14, 1)]      0                                            \n",
            "__________________________________________________________________________________________________\n",
            "lstm_28 (LSTM)                  [(None, 14, 256), (N 264192      input_8[0][0]                    \n",
            "__________________________________________________________________________________________________\n",
            "lstm_29 (LSTM)                  [(None, 256), (None, 525312      lstm_28[0][0]                    \n",
            "__________________________________________________________________________________________________\n",
            "repeat_vector_7 (RepeatVector)  (None, 1, 256)       0           lstm_29[0][0]                    \n",
            "__________________________________________________________________________________________________\n",
            "lstm_30 (LSTM)                  (None, 1, 256)       525312      repeat_vector_7[0][0]            \n",
            "                                                                 lstm_28[0][1]                    \n",
            "                                                                 lstm_28[0][2]                    \n",
            "__________________________________________________________________________________________________\n",
            "lstm_31 (LSTM)                  (None, 1, 256)       525312      lstm_30[0][0]                    \n",
            "                                                                 lstm_29[0][1]                    \n",
            "                                                                 lstm_29[0][2]                    \n",
            "__________________________________________________________________________________________________\n",
            "time_distributed_7 (TimeDistrib (None, 1, 1)         257         lstm_31[0][0]                    \n",
            "==================================================================================================\n",
            "Total params: 1,840,385\n",
            "Trainable params: 1,840,385\n",
            "Non-trainable params: 0\n",
            "__________________________________________________________________________________________________\n"
          ],
          "name": "stdout"
        }
      ]
    },
    {
      "cell_type": "code",
      "metadata": {
        "colab": {
          "base_uri": "https://localhost:8080/",
          "height": 1000,
          "referenced_widgets": [
            "4edc48133ce845a0bb46a05b5a8a3b68",
            "7d950645ee1b4bbb95302dad10ae8557",
            "5bd6625e951d4d2f813274b8fb3d5007",
            "117ea53385bf4514bd5e32a6d0e9e960",
            "6c444843087840428b7cefca4a8fd623",
            "c25c236579ab467dba32f3457a7e6022",
            "5ebf3e3a80e84d7fa636d57c38380077",
            "06538260fc10428f9a7864919b3176e5"
          ]
        },
        "id": "sgepglrbgAzK",
        "outputId": "9df09b97-4d75-4eab-a507-dd2f78b746a0"
      },
      "source": [
        "reduce_lr = tf.keras.callbacks.LearningRateScheduler(lambda x: 1e-3 * 0.95 ** x)\n",
        "\n",
        "# 1. Start a new run\n",
        "wandb.init(project='seq2seq_final', entity='covid19india')\n",
        "\n",
        "# 2. Save model inputs and hyperparameters\n",
        "config = wandb.config\n",
        "config.random_state = random_state\n",
        "\n",
        "model_14.compile(optimizer=tf.keras.optimizers.Adam(), loss=tf.keras.losses.Huber(), metrics=[keras.metrics.MeanSquaredError(), keras.metrics.RootMeanSquaredError(), \n",
        "                             keras.metrics.MeanAbsoluteError(), keras.metrics.MeanAbsolutePercentageError()])\n",
        "history_14=model_14.fit(X_train,y_train,epochs=50,validation_split=0.3,batch_size=16,verbose=0,callbacks=[reduce_lr, WandbCallback()])"
      ],
      "execution_count": null,
      "outputs": [
        {
          "output_type": "display_data",
          "data": {
            "text/html": [
              "Finishing last run (ID:2asw6noc) before initializing another..."
            ],
            "text/plain": [
              "<IPython.core.display.HTML object>"
            ]
          },
          "metadata": {
            "tags": []
          }
        },
        {
          "output_type": "display_data",
          "data": {
            "text/html": [
              "<br/>Waiting for W&B process to finish, PID 1690<br/>Program ended successfully."
            ],
            "text/plain": [
              "<IPython.core.display.HTML object>"
            ]
          },
          "metadata": {
            "tags": []
          }
        },
        {
          "output_type": "display_data",
          "data": {
            "application/vnd.jupyter.widget-view+json": {
              "model_id": "4edc48133ce845a0bb46a05b5a8a3b68",
              "version_minor": 0,
              "version_major": 2
            },
            "text/plain": [
              "VBox(children=(Label(value=' 21.18MB of 21.18MB uploaded (0.00MB deduped)\\r'), FloatProgress(value=1.0, max=1.…"
            ]
          },
          "metadata": {
            "tags": []
          }
        },
        {
          "output_type": "display_data",
          "data": {
            "text/html": [
              "Find user logs for this run at: <code>/content/wandb/run-20210430_160748-2asw6noc/logs/debug.log</code>"
            ],
            "text/plain": [
              "<IPython.core.display.HTML object>"
            ]
          },
          "metadata": {
            "tags": []
          }
        },
        {
          "output_type": "display_data",
          "data": {
            "text/html": [
              "Find internal logs for this run at: <code>/content/wandb/run-20210430_160748-2asw6noc/logs/debug-internal.log</code>"
            ],
            "text/plain": [
              "<IPython.core.display.HTML object>"
            ]
          },
          "metadata": {
            "tags": []
          }
        },
        {
          "output_type": "display_data",
          "data": {
            "text/html": [
              "<h3>Run summary:</h3><br/><style>\n",
              "    table.wandb td:nth-child(1) { padding: 0 10px; text-align: right }\n",
              "    </style><table class=\"wandb\">\n",
              "<tr><td>epoch</td><td>49</td></tr><tr><td>loss</td><td>0.00084</td></tr><tr><td>mean_squared_error</td><td>0.00168</td></tr><tr><td>root_mean_squared_error</td><td>0.04094</td></tr><tr><td>mean_absolute_error</td><td>0.02134</td></tr><tr><td>mean_absolute_percentage_error</td><td>34396.31641</td></tr><tr><td>val_loss</td><td>0.00168</td></tr><tr><td>val_mean_squared_error</td><td>0.00337</td></tr><tr><td>val_root_mean_squared_error</td><td>0.05801</td></tr><tr><td>val_mean_absolute_error</td><td>0.04495</td></tr><tr><td>val_mean_absolute_percentage_error</td><td>19.70848</td></tr><tr><td>lr</td><td>8e-05</td></tr><tr><td>_runtime</td><td>94</td></tr><tr><td>_timestamp</td><td>1619798971</td></tr><tr><td>_step</td><td>50</td></tr><tr><td>best_val_loss</td><td>0.00084</td></tr><tr><td>best_epoch</td><td>3</td></tr></table>"
            ],
            "text/plain": [
              "<IPython.core.display.HTML object>"
            ]
          },
          "metadata": {
            "tags": []
          }
        },
        {
          "output_type": "display_data",
          "data": {
            "text/html": [
              "<h3>Run history:</h3><br/><style>\n",
              "    table.wandb td:nth-child(1) { padding: 0 10px; text-align: right }\n",
              "    </style><table class=\"wandb\">\n",
              "<tr><td>epoch</td><td>▁▁▁▁▂▂▂▂▂▃▃▃▃▃▃▄▄▄▄▄▅▅▅▅▅▅▆▆▆▆▆▆▇▇▇▇▇███</td></tr><tr><td>loss</td><td>█▂▁▁▁▁▁▁▁▁▁▁▁▁▁▁▁▂▁▁▁▁▁▁▁▁▁▁▁▁▁▁▁▁▁▁▁▁▁▁</td></tr><tr><td>mean_squared_error</td><td>█▂▁▁▁▁▁▁▁▁▁▁▁▁▁▁▁▂▁▁▁▁▁▁▁▁▁▁▁▁▁▁▁▁▁▁▁▁▁▁</td></tr><tr><td>root_mean_squared_error</td><td>█▂▂▁▁▁▁▁▂▁▁▁▁▁▂▁▂▃▁▂▁▁▁▁▁▁▁▁▁▁▁▁▁▁▁▁▁▁▁▁</td></tr><tr><td>mean_absolute_error</td><td>█▃▂▁▂▁▂▂▂▁▁▁▁▁▂▁▂▃▂▂▁▁▁▁▁▁▁▁▁▁▁▁▁▁▁▁▁▁▁▁</td></tr><tr><td>mean_absolute_percentage_error</td><td>█▂▂▁▂▂▂▁▁▁▁▁▂▂▂▂▂▃▃▃▁▁▁▁▁▁▁▁▁▁▁▁▁▁▁▁▁▁▁▁</td></tr><tr><td>val_loss</td><td>█▃▂▁▃▃▂▄▂▂▃▄▂▁▁▂▁▅▁▃▂▂▂▂▁▂▂▂▂▂▂▂▂▂▂▂▂▂▂▂</td></tr><tr><td>val_mean_squared_error</td><td>█▃▂▁▃▃▂▄▂▂▃▄▂▁▁▂▁▅▁▃▂▂▂▂▁▂▂▂▂▂▂▂▂▂▂▂▂▂▂▂</td></tr><tr><td>val_root_mean_squared_error</td><td>█▄▃▁▃▄▃▅▃▂▃▄▂▁▁▂▁▆▁▄▂▃▂▃▂▂▂▃▂▃▂▂▂▂▂▂▂▂▂▂</td></tr><tr><td>val_mean_absolute_error</td><td>█▄▃▁▃▄▃▅▃▂▃▄▂▁▁▂▁▆▁▄▂▃▂▃▂▂▂▃▂▃▂▂▂▂▂▂▂▂▂▂</td></tr><tr><td>val_mean_absolute_percentage_error</td><td>█▄▃▁▄▄▃▅▃▂▃▄▂▁▁▂▁▆▂▄▂▃▃▃▂▂▃▃▂▃▂▂▂▂▂▂▂▃▂▂</td></tr><tr><td>lr</td><td>██▇▇▆▆▆▅▅▅▄▄▄▄▄▃▃▃▃▃▂▂▂▂▂▂▂▂▂▂▂▁▁▁▁▁▁▁▁▁</td></tr><tr><td>_runtime</td><td>▁▁▁▁▂▂▂▂▂▃▃▃▃▃▃▄▄▄▄▄▅▅▅▅▅▅▆▆▆▆▆▆▇▇▇▇▇▇██</td></tr><tr><td>_timestamp</td><td>▁▁▁▁▂▂▂▂▂▃▃▃▃▃▃▄▄▄▄▄▅▅▅▅▅▅▆▆▆▆▆▆▇▇▇▇▇▇██</td></tr><tr><td>_step</td><td>▁▁▁▁▂▂▂▂▂▃▃▃▃▃▃▄▄▄▄▄▅▅▅▅▅▅▆▆▆▆▆▆▇▇▇▇▇███</td></tr></table><br/>"
            ],
            "text/plain": [
              "<IPython.core.display.HTML object>"
            ]
          },
          "metadata": {
            "tags": []
          }
        },
        {
          "output_type": "display_data",
          "data": {
            "text/html": [
              "Synced 5 W&B file(s), 1 media file(s), 0 artifact file(s) and 1 other file(s)"
            ],
            "text/plain": [
              "<IPython.core.display.HTML object>"
            ]
          },
          "metadata": {
            "tags": []
          }
        },
        {
          "output_type": "display_data",
          "data": {
            "text/html": [
              "\n",
              "                    <br/>Synced <strong style=\"color:#cdcd00\">ethereal-bush-6</strong>: <a href=\"https://wandb.ai/covid19india/seq2seq_final/runs/2asw6noc\" target=\"_blank\">https://wandb.ai/covid19india/seq2seq_final/runs/2asw6noc</a><br/>\n",
              "                "
            ],
            "text/plain": [
              "<IPython.core.display.HTML object>"
            ]
          },
          "metadata": {
            "tags": []
          }
        },
        {
          "output_type": "display_data",
          "data": {
            "text/html": [
              "...Successfully finished last run (ID:2asw6noc). Initializing new run:<br/><br/>"
            ],
            "text/plain": [
              "<IPython.core.display.HTML object>"
            ]
          },
          "metadata": {
            "tags": []
          }
        },
        {
          "output_type": "display_data",
          "data": {
            "text/html": [
              "\n",
              "                Tracking run with wandb version 0.10.28<br/>\n",
              "                Syncing run <strong style=\"color:#cdcd00\">earnest-field-7</strong> to <a href=\"https://wandb.ai\" target=\"_blank\">Weights & Biases</a> <a href=\"https://docs.wandb.com/integrations/jupyter.html\" target=\"_blank\">(Documentation)</a>.<br/>\n",
              "                Project page: <a href=\"https://wandb.ai/covid19india/seq2seq_final\" target=\"_blank\">https://wandb.ai/covid19india/seq2seq_final</a><br/>\n",
              "                Run page: <a href=\"https://wandb.ai/covid19india/seq2seq_final/runs/32f9tncm\" target=\"_blank\">https://wandb.ai/covid19india/seq2seq_final/runs/32f9tncm</a><br/>\n",
              "                Run data is saved locally in <code>/content/wandb/run-20210430_160933-32f9tncm</code><br/><br/>\n",
              "            "
            ],
            "text/plain": [
              "<IPython.core.display.HTML object>"
            ]
          },
          "metadata": {
            "tags": []
          }
        }
      ]
    },
    {
      "cell_type": "code",
      "metadata": {
        "colab": {
          "base_uri": "https://localhost:8080/",
          "height": 295
        },
        "id": "zrf36fu4gAzL",
        "outputId": "44cb695f-c8e9-4918-fce8-01af5fd8e3e7"
      },
      "source": [
        "plt.plot(history_14.history['loss'])\n",
        "plt.plot(history_14.history['val_loss'])\n",
        "plt.title(\"n=14 Model Loss\")\n",
        "plt.xlabel('Epochs')\n",
        "plt.ylabel('Loss')\n",
        "plt.legend(['Train', 'Valid'])\n",
        "plt.show()"
      ],
      "execution_count": null,
      "outputs": [
        {
          "output_type": "display_data",
          "data": {
            "image/png": "[encoded data removed]",
            "text/plain": [
              "<Figure size 432x288 with 1 Axes>"
            ]
          },
          "metadata": {
            "tags": [],
            "needs_background": "light"
          }
        }
      ]
    },
    {
      "cell_type": "code",
      "metadata": {
        "id": "rc0o-_94gAzM"
      },
      "source": [
        "test_pred_14=model_14.predict(X_test)\n",
        "train_pred_14=model_14.predict(X_train)"
      ],
      "execution_count": null,
      "outputs": []
    },
    {
      "cell_type": "code",
      "metadata": {
        "id": "V9Fw4gwNgAzN"
      },
      "source": [
        "for index,i in enumerate(train_df.columns):\n",
        "    scaler = scalers['scaler_'+i]\n",
        "    test_pred_14[:,:,index]=scaler.inverse_transform(test_pred_14[:,:,index])\n",
        "    train_pred_14[:,:,index]=scaler.inverse_transform(train_pred_14[:,:,index])\n",
        "    \n",
        "    y_train[:,:,index]=scaler.inverse_transform(y_train[:,:,index])\n",
        "    y_test[:,:,index]=scaler.inverse_transform(y_test[:,:,index])"
      ],
      "execution_count": null,
      "outputs": []
    },
    {
      "cell_type": "code",
      "metadata": {
        "colab": {
          "base_uri": "https://localhost:8080/"
        },
        "id": "julMLAnQgAzO",
        "outputId": "f40be257-569d-47ab-aa13-379cb8fddb19"
      },
      "source": [
        "from sklearn.metrics import mean_absolute_error\n",
        " \n",
        "for index,i in enumerate(train_df.columns):\n",
        "    print(i)\n",
        "    print(\"Train MAE-14 : \",mean_absolute_error(y_train[:,0,index],train_pred_14[:,0,index]))\n",
        "    print(\"Test MAE-14 : \",mean_absolute_error(y_test[:,0,index],test_pred_14[:,0,index]))"
      ],
      "execution_count": null,
      "outputs": [
        {
          "output_type": "stream",
          "text": [
            "Daily Confirmed\n",
            "Train MAE-14 :  2391.5292632036258\n",
            "Test MAE-14 :  7439.943980823864\n"
          ],
          "name": "stdout"
        }
      ]
    },
    {
      "cell_type": "code",
      "metadata": {
        "colab": {
          "base_uri": "https://localhost:8080/",
          "height": 511
        },
        "id": "3TzUu7hxgAzP",
        "outputId": "ff7761f9-fe95-412d-ba66-46e9224dbabb"
      },
      "source": [
        "plt.figure(figsize=(15,8))\n",
        "\n",
        "true = np.append(y_train[:,0,-1], y_test[:,0,-1])\n",
        "plt.plot(train_pred_14[:,0,-1],color = 'orange', label = 'train_predictions')\n",
        "plt.plot(range(train_pred_14.shape[0]+1,true.shape[0]+1), test_pred_14[:,0,-1],color = 'blue', label = 'test_predictions')\n",
        "plt.plot(true,color = 'green', label = 'actual')\n",
        "plt.xlabel(\"days\", fontsize=10)\n",
        "plt.ylabel(\"Number of New Cases\", fontsize=10)\n",
        "plt.title(\"COVID-19 India\", fontsize=10)\n",
        "plt.axvline(x=train_pred_14.shape[0], color='black')\n",
        "plt.legend()\n",
        "wandb.log({\"actual_vs_predicted\": wandb.Image(plt)})"
      ],
      "execution_count": null,
      "outputs": [
        {
          "output_type": "display_data",
          "data": {
            "image/png": "[encoded data removed]",
            "text/plain": [
              "<Figure size 1080x576 with 1 Axes>"
            ]
          },
          "metadata": {
            "tags": [],
            "needs_background": "light"
          }
        }
      ]
    },
    {
      "cell_type": "code",
      "metadata": {
        "id": "7pM_9s9FgAzQ"
      },
      "source": [
        "df_save['14'] = test_pred_14.reshape(-1)"
      ],
      "execution_count": null,
      "outputs": []
    },
    {
      "cell_type": "code",
      "metadata": {
        "id": "UcIIpRwojgVr"
      },
      "source": [
        "df_save.to_csv('/content/drive/MyDrive/Major Project/seq2seq.csv')\n",
        "# df = pd.read_csv('/content/drive/MyDrive/ML/cleaned.csv', index_col='Day')"
      ],
      "execution_count": null,
      "outputs": []
    },
    {
      "cell_type": "code",
      "metadata": {
        "colab": {
          "base_uri": "https://localhost:8080/",
          "height": 1000
        },
        "id": "bRM780X4j75l",
        "outputId": "f79509f2-c805-47f5-e098-eb0e55f753c0"
      },
      "source": [
        "df_save"
      ],
      "execution_count": null,
      "outputs": [
        {
          "output_type": "execute_result",
          "data": {
            "text/html": [
              "<div>\n",
              "<style scoped>\n",
              "    .dataframe tbody tr th:only-of-type {\n",
              "        vertical-align: middle;\n",
              "    }\n",
              "\n",
              "    .dataframe tbody tr th {\n",
              "        vertical-align: top;\n",
              "    }\n",
              "\n",
              "    .dataframe thead th {\n",
              "        text-align: right;\n",
              "    }\n",
              "</style>\n",
              "<table border=\"1\" class=\"dataframe\">\n",
              "  <thead>\n",
              "    <tr style=\"text-align: right;\">\n",
              "      <th></th>\n",
              "      <th>7</th>\n",
              "      <th>10</th>\n",
              "      <th>14</th>\n",
              "    </tr>\n",
              "  </thead>\n",
              "  <tbody>\n",
              "    <tr>\n",
              "      <th>0</th>\n",
              "      <td>12593.253906</td>\n",
              "      <td>12741.331055</td>\n",
              "      <td>12120.815430</td>\n",
              "    </tr>\n",
              "    <tr>\n",
              "      <th>1</th>\n",
              "      <td>12796.948242</td>\n",
              "      <td>13194.272461</td>\n",
              "      <td>12619.261719</td>\n",
              "    </tr>\n",
              "    <tr>\n",
              "      <th>2</th>\n",
              "      <td>13379.168945</td>\n",
              "      <td>13719.403320</td>\n",
              "      <td>13196.019531</td>\n",
              "    </tr>\n",
              "    <tr>\n",
              "      <th>3</th>\n",
              "      <td>13783.500000</td>\n",
              "      <td>14298.420898</td>\n",
              "      <td>13880.552734</td>\n",
              "    </tr>\n",
              "    <tr>\n",
              "      <th>4</th>\n",
              "      <td>14155.291016</td>\n",
              "      <td>14749.728516</td>\n",
              "      <td>14475.575195</td>\n",
              "    </tr>\n",
              "    <tr>\n",
              "      <th>5</th>\n",
              "      <td>14610.715820</td>\n",
              "      <td>15230.394531</td>\n",
              "      <td>15033.615234</td>\n",
              "    </tr>\n",
              "    <tr>\n",
              "      <th>6</th>\n",
              "      <td>14509.601562</td>\n",
              "      <td>14606.946289</td>\n",
              "      <td>14411.097656</td>\n",
              "    </tr>\n",
              "    <tr>\n",
              "      <th>7</th>\n",
              "      <td>14766.116211</td>\n",
              "      <td>14841.626953</td>\n",
              "      <td>14574.773438</td>\n",
              "    </tr>\n",
              "    <tr>\n",
              "      <th>8</th>\n",
              "      <td>15538.102539</td>\n",
              "      <td>15883.137695</td>\n",
              "      <td>15605.487305</td>\n",
              "    </tr>\n",
              "    <tr>\n",
              "      <th>9</th>\n",
              "      <td>16172.772461</td>\n",
              "      <td>16718.017578</td>\n",
              "      <td>16434.328125</td>\n",
              "    </tr>\n",
              "    <tr>\n",
              "      <th>10</th>\n",
              "      <td>16685.033203</td>\n",
              "      <td>17346.238281</td>\n",
              "      <td>17174.630859</td>\n",
              "    </tr>\n",
              "    <tr>\n",
              "      <th>11</th>\n",
              "      <td>17195.310547</td>\n",
              "      <td>17878.767578</td>\n",
              "      <td>17810.689453</td>\n",
              "    </tr>\n",
              "    <tr>\n",
              "      <th>12</th>\n",
              "      <td>17383.285156</td>\n",
              "      <td>17980.437500</td>\n",
              "      <td>17952.894531</td>\n",
              "    </tr>\n",
              "    <tr>\n",
              "      <th>13</th>\n",
              "      <td>17219.791016</td>\n",
              "      <td>17166.701172</td>\n",
              "      <td>17026.173828</td>\n",
              "    </tr>\n",
              "    <tr>\n",
              "      <th>14</th>\n",
              "      <td>17259.773438</td>\n",
              "      <td>17126.578125</td>\n",
              "      <td>16801.353516</td>\n",
              "    </tr>\n",
              "    <tr>\n",
              "      <th>15</th>\n",
              "      <td>17484.511719</td>\n",
              "      <td>17722.421875</td>\n",
              "      <td>17267.160156</td>\n",
              "    </tr>\n",
              "    <tr>\n",
              "      <th>16</th>\n",
              "      <td>17635.613281</td>\n",
              "      <td>18136.900391</td>\n",
              "      <td>17597.861328</td>\n",
              "    </tr>\n",
              "    <tr>\n",
              "      <th>17</th>\n",
              "      <td>18083.058594</td>\n",
              "      <td>18810.296875</td>\n",
              "      <td>18296.746094</td>\n",
              "    </tr>\n",
              "    <tr>\n",
              "      <th>18</th>\n",
              "      <td>18562.628906</td>\n",
              "      <td>19433.201172</td>\n",
              "      <td>19027.824219</td>\n",
              "    </tr>\n",
              "    <tr>\n",
              "      <th>19</th>\n",
              "      <td>19100.039062</td>\n",
              "      <td>19922.500000</td>\n",
              "      <td>19627.285156</td>\n",
              "    </tr>\n",
              "    <tr>\n",
              "      <th>20</th>\n",
              "      <td>19235.033203</td>\n",
              "      <td>19470.939453</td>\n",
              "      <td>19157.861328</td>\n",
              "    </tr>\n",
              "    <tr>\n",
              "      <th>21</th>\n",
              "      <td>19551.421875</td>\n",
              "      <td>19670.810547</td>\n",
              "      <td>19305.585938</td>\n",
              "    </tr>\n",
              "    <tr>\n",
              "      <th>22</th>\n",
              "      <td>20597.703125</td>\n",
              "      <td>21104.304688</td>\n",
              "      <td>20769.501953</td>\n",
              "    </tr>\n",
              "    <tr>\n",
              "      <th>23</th>\n",
              "      <td>21733.009766</td>\n",
              "      <td>22468.312500</td>\n",
              "      <td>22246.757812</td>\n",
              "    </tr>\n",
              "    <tr>\n",
              "      <th>24</th>\n",
              "      <td>22938.582031</td>\n",
              "      <td>23921.162109</td>\n",
              "      <td>23915.095703</td>\n",
              "    </tr>\n",
              "    <tr>\n",
              "      <th>25</th>\n",
              "      <td>24062.164062</td>\n",
              "      <td>25129.802734</td>\n",
              "      <td>25377.953125</td>\n",
              "    </tr>\n",
              "    <tr>\n",
              "      <th>26</th>\n",
              "      <td>25341.466797</td>\n",
              "      <td>26409.156250</td>\n",
              "      <td>26834.406250</td>\n",
              "    </tr>\n",
              "    <tr>\n",
              "      <th>27</th>\n",
              "      <td>26378.675781</td>\n",
              "      <td>26871.763672</td>\n",
              "      <td>27346.929688</td>\n",
              "    </tr>\n",
              "    <tr>\n",
              "      <th>28</th>\n",
              "      <td>27896.037109</td>\n",
              "      <td>28258.837891</td>\n",
              "      <td>28746.009766</td>\n",
              "    </tr>\n",
              "    <tr>\n",
              "      <th>29</th>\n",
              "      <td>30168.095703</td>\n",
              "      <td>31088.185547</td>\n",
              "      <td>31706.968750</td>\n",
              "    </tr>\n",
              "    <tr>\n",
              "      <th>30</th>\n",
              "      <td>32957.156250</td>\n",
              "      <td>34370.718750</td>\n",
              "      <td>35256.281250</td>\n",
              "    </tr>\n",
              "    <tr>\n",
              "      <th>31</th>\n",
              "      <td>35583.316406</td>\n",
              "      <td>37252.843750</td>\n",
              "      <td>38560.324219</td>\n",
              "    </tr>\n",
              "    <tr>\n",
              "      <th>32</th>\n",
              "      <td>38449.882812</td>\n",
              "      <td>40133.007812</td>\n",
              "      <td>41891.406250</td>\n",
              "    </tr>\n",
              "    <tr>\n",
              "      <th>33</th>\n",
              "      <td>41479.519531</td>\n",
              "      <td>43111.957031</td>\n",
              "      <td>45244.308594</td>\n",
              "    </tr>\n",
              "    <tr>\n",
              "      <th>34</th>\n",
              "      <td>43156.988281</td>\n",
              "      <td>43871.578125</td>\n",
              "      <td>46094.066406</td>\n",
              "    </tr>\n",
              "    <tr>\n",
              "      <th>35</th>\n",
              "      <td>45413.773438</td>\n",
              "      <td>45852.429688</td>\n",
              "      <td>47956.878906</td>\n",
              "    </tr>\n",
              "    <tr>\n",
              "      <th>36</th>\n",
              "      <td>47981.789062</td>\n",
              "      <td>48816.082031</td>\n",
              "      <td>50887.308594</td>\n",
              "    </tr>\n",
              "    <tr>\n",
              "      <th>37</th>\n",
              "      <td>51016.851562</td>\n",
              "      <td>52490.343750</td>\n",
              "      <td>54632.777344</td>\n",
              "    </tr>\n",
              "    <tr>\n",
              "      <th>38</th>\n",
              "      <td>54222.300781</td>\n",
              "      <td>56064.070312</td>\n",
              "      <td>58457.511719</td>\n",
              "    </tr>\n",
              "    <tr>\n",
              "      <th>39</th>\n",
              "      <td>56906.320312</td>\n",
              "      <td>58837.191406</td>\n",
              "      <td>61504.472656</td>\n",
              "    </tr>\n",
              "    <tr>\n",
              "      <th>40</th>\n",
              "      <td>60004.957031</td>\n",
              "      <td>62146.406250</td>\n",
              "      <td>65062.035156</td>\n",
              "    </tr>\n",
              "    <tr>\n",
              "      <th>41</th>\n",
              "      <td>61112.148438</td>\n",
              "      <td>61935.152344</td>\n",
              "      <td>64692.500000</td>\n",
              "    </tr>\n",
              "    <tr>\n",
              "      <th>42</th>\n",
              "      <td>60965.605469</td>\n",
              "      <td>60843.843750</td>\n",
              "      <td>63002.281250</td>\n",
              "    </tr>\n",
              "    <tr>\n",
              "      <th>43</th>\n",
              "      <td>63616.937500</td>\n",
              "      <td>64080.875000</td>\n",
              "      <td>65799.492188</td>\n",
              "    </tr>\n",
              "    <tr>\n",
              "      <th>44</th>\n",
              "      <td>67236.234375</td>\n",
              "      <td>68865.367188</td>\n",
              "      <td>70632.640625</td>\n",
              "    </tr>\n",
              "    <tr>\n",
              "      <th>45</th>\n",
              "      <td>71567.414062</td>\n",
              "      <td>74294.078125</td>\n",
              "      <td>76682.812500</td>\n",
              "    </tr>\n",
              "    <tr>\n",
              "      <th>46</th>\n",
              "      <td>76052.750000</td>\n",
              "      <td>79319.679688</td>\n",
              "      <td>82668.531250</td>\n",
              "    </tr>\n",
              "    <tr>\n",
              "      <th>47</th>\n",
              "      <td>81373.039062</td>\n",
              "      <td>85379.695312</td>\n",
              "      <td>89934.382812</td>\n",
              "    </tr>\n",
              "    <tr>\n",
              "      <th>48</th>\n",
              "      <td>85666.546875</td>\n",
              "      <td>88425.554688</td>\n",
              "      <td>93755.289062</td>\n",
              "    </tr>\n",
              "    <tr>\n",
              "      <th>49</th>\n",
              "      <td>92501.867188</td>\n",
              "      <td>94428.296875</td>\n",
              "      <td>100587.484375</td>\n",
              "    </tr>\n",
              "    <tr>\n",
              "      <th>50</th>\n",
              "      <td>98876.585938</td>\n",
              "      <td>101126.507812</td>\n",
              "      <td>108370.796875</td>\n",
              "    </tr>\n",
              "    <tr>\n",
              "      <th>51</th>\n",
              "      <td>104640.382812</td>\n",
              "      <td>107292.664062</td>\n",
              "      <td>115562.781250</td>\n",
              "    </tr>\n",
              "    <tr>\n",
              "      <th>52</th>\n",
              "      <td>111059.664062</td>\n",
              "      <td>114312.562500</td>\n",
              "      <td>123678.820312</td>\n",
              "    </tr>\n",
              "    <tr>\n",
              "      <th>53</th>\n",
              "      <td>117406.039062</td>\n",
              "      <td>120760.179688</td>\n",
              "      <td>131241.062500</td>\n",
              "    </tr>\n",
              "    <tr>\n",
              "      <th>54</th>\n",
              "      <td>124626.093750</td>\n",
              "      <td>128537.773438</td>\n",
              "      <td>140349.734375</td>\n",
              "    </tr>\n",
              "  </tbody>\n",
              "</table>\n",
              "</div>"
            ],
            "text/plain": [
              "                7             10             14\n",
              "0    12593.253906   12741.331055   12120.815430\n",
              "1    12796.948242   13194.272461   12619.261719\n",
              "2    13379.168945   13719.403320   13196.019531\n",
              "3    13783.500000   14298.420898   13880.552734\n",
              "4    14155.291016   14749.728516   14475.575195\n",
              "5    14610.715820   15230.394531   15033.615234\n",
              "6    14509.601562   14606.946289   14411.097656\n",
              "7    14766.116211   14841.626953   14574.773438\n",
              "8    15538.102539   15883.137695   15605.487305\n",
              "9    16172.772461   16718.017578   16434.328125\n",
              "10   16685.033203   17346.238281   17174.630859\n",
              "11   17195.310547   17878.767578   17810.689453\n",
              "12   17383.285156   17980.437500   17952.894531\n",
              "13   17219.791016   17166.701172   17026.173828\n",
              "14   17259.773438   17126.578125   16801.353516\n",
              "15   17484.511719   17722.421875   17267.160156\n",
              "16   17635.613281   18136.900391   17597.861328\n",
              "17   18083.058594   18810.296875   18296.746094\n",
              "18   18562.628906   19433.201172   19027.824219\n",
              "19   19100.039062   19922.500000   19627.285156\n",
              "20   19235.033203   19470.939453   19157.861328\n",
              "21   19551.421875   19670.810547   19305.585938\n",
              "22   20597.703125   21104.304688   20769.501953\n",
              "23   21733.009766   22468.312500   22246.757812\n",
              "24   22938.582031   23921.162109   23915.095703\n",
              "25   24062.164062   25129.802734   25377.953125\n",
              "26   25341.466797   26409.156250   26834.406250\n",
              "27   26378.675781   26871.763672   27346.929688\n",
              "28   27896.037109   28258.837891   28746.009766\n",
              "29   30168.095703   31088.185547   31706.968750\n",
              "30   32957.156250   34370.718750   35256.281250\n",
              "31   35583.316406   37252.843750   38560.324219\n",
              "32   38449.882812   40133.007812   41891.406250\n",
              "33   41479.519531   43111.957031   45244.308594\n",
              "34   43156.988281   43871.578125   46094.066406\n",
              "35   45413.773438   45852.429688   47956.878906\n",
              "36   47981.789062   48816.082031   50887.308594\n",
              "37   51016.851562   52490.343750   54632.777344\n",
              "38   54222.300781   56064.070312   58457.511719\n",
              "39   56906.320312   58837.191406   61504.472656\n",
              "40   60004.957031   62146.406250   65062.035156\n",
              "41   61112.148438   61935.152344   64692.500000\n",
              "42   60965.605469   60843.843750   63002.281250\n",
              "43   63616.937500   64080.875000   65799.492188\n",
              "44   67236.234375   68865.367188   70632.640625\n",
              "45   71567.414062   74294.078125   76682.812500\n",
              "46   76052.750000   79319.679688   82668.531250\n",
              "47   81373.039062   85379.695312   89934.382812\n",
              "48   85666.546875   88425.554688   93755.289062\n",
              "49   92501.867188   94428.296875  100587.484375\n",
              "50   98876.585938  101126.507812  108370.796875\n",
              "51  104640.382812  107292.664062  115562.781250\n",
              "52  111059.664062  114312.562500  123678.820312\n",
              "53  117406.039062  120760.179688  131241.062500\n",
              "54  124626.093750  128537.773438  140349.734375"
            ]
          },
          "metadata": {
            "tags": []
          },
          "execution_count": 135
        }
      ]
    },
    {
      "cell_type": "code",
      "metadata": {
        "colab": {
          "base_uri": "https://localhost:8080/"
        },
        "id": "a5Y7Z0xuj92a",
        "outputId": "b6084e37-96ab-4d22-e904-dfa4f1ccff6e"
      },
      "source": [
        "from sklearn.metrics import mean_absolute_error, mean_squared_error\n",
        " \n",
        "for index,i in enumerate(train_df.columns):\n",
        "    print(i)\n",
        "    # print(\"Train MAE-10 : \",mean_absolute_error(y_train[:,0,index],train_pred_10[:,0,index]))\n",
        "    print(\"Test MAE-10 : \",mean_absolute_error(y_test[:,0,index],test_pred_10[:,0,index]))\n",
        "    # print(\"Train MAE-10 : \",mean_squared_error(y_train[:,0,index],train_pred_10[:,0,index], squared=False))\n",
        "    print(\"Test MAE-10 : \",mean_squared_error(y_test[:,0,index],test_pred_10[:,0,index], squared=False))"
      ],
      "execution_count": null,
      "outputs": [
        {
          "output_type": "stream",
          "text": [
            "Daily Confirmed\n",
            "Test MAE-10 :  8972.07109375\n",
            "Test MAE-10 :  14672.892711163991\n"
          ],
          "name": "stdout"
        }
      ]
    },
    {
      "cell_type": "code",
      "metadata": {
        "colab": {
          "base_uri": "https://localhost:8080/"
        },
        "id": "XVpP13IYk9Tw",
        "outputId": "3c15c085-e766-4a3d-a493-053fc2c35d31"
      },
      "source": [
        "from sklearn.metrics import mean_absolute_error, mean_squared_error\n",
        " \n",
        "for index,i in enumerate(train_df.columns):\n",
        "    print(i)\n",
        "    # print(\"Train MAE-10 : \",mean_absolute_error(y_train[:,0,index],train_pred_10[:,0,index]))\n",
        "    print(\"Test MAE-7 : \",mean_absolute_error(y_test[:,0,index],test_pred_7[:,0,index]))\n",
        "    # print(\"Train MAE-7 : \",mean_squared_error(y_train[:,0,index],train_pred_7[:,0,index], squared=False))\n",
        "    print(\"Test MAE-7 : \",mean_squared_error(y_test[:,0,index],test_pred_7[:,0,index], squared=False))"
      ],
      "execution_count": null,
      "outputs": [
        {
          "output_type": "stream",
          "text": [
            "Daily Confirmed\n",
            "Test MAE-7 :  9719.561647727272\n",
            "Test MAE-7 :  15945.435787135797\n"
          ],
          "name": "stdout"
        }
      ]
    },
    {
      "cell_type": "code",
      "metadata": {
        "colab": {
          "base_uri": "https://localhost:8080/"
        },
        "id": "_A6Jndi-k_MT",
        "outputId": "b0d474a9-7913-4438-a727-844ea803c149"
      },
      "source": [
        "from sklearn.metrics import mean_absolute_error, mean_squared_error\n",
        " \n",
        "for index,i in enumerate(train_df.columns):\n",
        "    print(i)\n",
        "    # print(\"Train MAE-10 : \",mean_absolute_error(y_train[:,0,index],train_pred_10[:,0,index]))\n",
        "    print(\"Test MAE-14 : \",mean_absolute_error(y_test[:,0,index],test_pred_14[:,0,index]))\n",
        "    # print(\"Train MAE-14 : \",mean_squared_error(y_train[:,0,index],train_pred_14[:,0,index], squared=False))\n",
        "    print(\"Test MAE-14 : \",mean_squared_error(y_test[:,0,index],test_pred_14[:,0,index], squared=False))"
      ],
      "execution_count": null,
      "outputs": [
        {
          "output_type": "stream",
          "text": [
            "Daily Confirmed\n",
            "Test MAE-14 :  7439.943980823864\n",
            "Test MAE-14 :  11669.858087371975\n"
          ],
          "name": "stdout"
        }
      ]
    },
    {
      "cell_type": "code",
      "metadata": {
        "id": "_REMIEwzlBmj"
      },
      "source": [
        ""
      ],
      "execution_count": null,
      "outputs": []
    }
  ]
}